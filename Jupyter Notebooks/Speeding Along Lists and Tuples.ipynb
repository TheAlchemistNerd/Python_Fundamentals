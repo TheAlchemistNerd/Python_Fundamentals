{
 "cells": [
  {
   "cell_type": "code",
   "execution_count": 2,
   "metadata": {},
   "outputs": [
    {
     "name": "stdout",
     "output_type": "stream",
     "text": [
      "['Mark', 'Amber', 'Todd', 'Anita', 'Sandy']\n"
     ]
    }
   ],
   "source": [
    "# examples of lists\n",
    "scores = [88,92,78,90,98,84]\n",
    "students = [\"Mark\",\"Amber\",\"Todd\",\"Anita\",\"Sandy\"]\n",
    "print(students)"
   ]
  },
  {
   "cell_type": "code",
   "execution_count": 3,
   "metadata": {},
   "outputs": [
    {
     "name": "stdout",
     "output_type": "stream",
     "text": [
      "Mark\n",
      "84\n"
     ]
    }
   ],
   "source": [
    "# referencing a list by position\n",
    "students = [\"Mark\", \"Amber\", \"Todd\", \"Anita\", \"Sandy\"]\n",
    "print(students[0])\n",
    "\n",
    "scores = [88, 92, 78, 90, 84]\n",
    "print(scores[4])\n",
    "\n"
   ]
  },
  {
   "cell_type": "code",
   "execution_count": 4,
   "metadata": {},
   "outputs": [
    {
     "name": "stdout",
     "output_type": "stream",
     "text": [
      "88\n",
      "92\n",
      "78\n",
      "90\n",
      "84\n",
      "Done\n"
     ]
    }
   ],
   "source": [
    "# Looping through a list\n",
    "scores = [88,92,78,90,84]\n",
    "for score in scores:\n",
    "    print(score)\n",
    "print(\"Done\")    "
   ]
  },
  {
   "cell_type": "code",
   "execution_count": 5,
   "metadata": {},
   "outputs": [
    {
     "name": "stdout",
     "output_type": "stream",
     "text": [
      "True\n",
      "False\n"
     ]
    }
   ],
   "source": [
    "#Seeing whether a list contains an item\n",
    "#Using variable assignment\n",
    "\n",
    "students = [\"Mark\",\"Amber\",\"Todd\",\"Anita\",\"Sandy\"]\n",
    "\n",
    "# Is Anita in the list?\n",
    "has_anita = \"Anita\" in students\n",
    "print(has_anita)\n",
    "\n",
    "# Is Bob in the list?\n",
    "has_bob = \"Bob\" in students\n",
    "print(has_bob)"
   ]
  },
  {
   "cell_type": "code",
   "execution_count": 10,
   "metadata": {},
   "outputs": [
    {
     "name": "stdout",
     "output_type": "stream",
     "text": [
      "Found Anita\n",
      "Done\n"
     ]
    }
   ],
   "source": [
    "# Seeing whether a list contains an item\n",
    "# using an if statement\n",
    "\n",
    "students = [\"Mark\", \"Amber\", \"Todd\", \"Anita\", \"Sandy\"]\n",
    "\n",
    "# Is Anita in the list\n",
    "if \"Anita\" in students:\n",
    "    print(\"Found Anita\")\n",
    "else:\n",
    "    print(\"Not available\")\n",
    "print(\"Done\")    \n",
    "\n",
    "\n",
    "\n",
    "\n"
   ]
  },
  {
   "cell_type": "code",
   "execution_count": 11,
   "metadata": {},
   "outputs": [
    {
     "name": "stdout",
     "output_type": "stream",
     "text": [
      "5\n"
     ]
    }
   ],
   "source": [
    "#Geting the length of a list\n",
    "\n",
    "students = [\"Mark\", \"Amber\", \"Todd\", \"Anita\", \"Sandy\"]\n",
    "print(len(students))"
   ]
  },
  {
   "cell_type": "code",
   "execution_count": 1,
   "metadata": {},
   "outputs": [
    {
     "name": "stdout",
     "output_type": "stream",
     "text": [
      "['Mark', 'Amber', 'Todd', 'Anita', 'Sandy', 'Goober', 'Amanda']\n"
     ]
    }
   ],
   "source": [
    "#Create a list of strings (names)\n",
    "students = [\"Mark\", \"Amber\", \"Todd\", \"Anita\", \"Sandy\"]\n",
    "\n",
    "#Add the name Goober to the end of the list \n",
    "students.append(\"Goober\")\n",
    "\n",
    "new_student = \"Amanda\"\n",
    "#Add whatever name is in new_student to the list.\n",
    "students.append(new_student)\n",
    "\n",
    "#Print the entire list\n",
    "print(students)"
   ]
  },
  {
   "cell_type": "code",
   "execution_count": 2,
   "metadata": {},
   "outputs": [
    {
     "name": "stdout",
     "output_type": "stream",
     "text": [
      "Amanda added to the list\n",
      "['Mark', 'Amber', 'Todd', 'Anita', 'Sandy', 'Amanda']\n"
     ]
    }
   ],
   "source": [
    "students = [\"Mark\", \"Amber\", \"Todd\", \"Anita\", \"Sandy\"]\n",
    "student_name = \"Amanda\"\n",
    "\n",
    "#Add student_name but only if not already in the list.\n",
    "if student_name in students:\n",
    "    print(student_name +\" \" + \"already in the list\")\n",
    "else:\n",
    "    students.append(student_name)\n",
    "    print(student_name +\" \" + \"added to the list\")\n",
    "print(students)"
   ]
  },
  {
   "cell_type": "code",
   "execution_count": 6,
   "metadata": {},
   "outputs": [
    {
     "name": "stdout",
     "output_type": "stream",
     "text": [
      "['Lupe', 'Mark', 'Amber', 'Todd', 'Anita', 'Sandy']\n"
     ]
    }
   ],
   "source": [
    "#Inserting an item into a list\n",
    "students = [\"Mark\", \"Amber\", \"Todd\", \"Anita\", \"Sandy\"]\n",
    "student_name = \"Lupe\"\n",
    "#Add the student name to the front of the list\n",
    "students.insert(0,student_name)\n",
    "\n",
    "#Show me the new list\n",
    "print(students)\n",
    "\n",
    "\n"
   ]
  },
  {
   "cell_type": "code",
   "execution_count": 7,
   "metadata": {},
   "outputs": [
    {
     "name": "stdout",
     "output_type": "stream",
     "text": [
      "['Mark', 'Amber', 'Todd', 'Hobart', 'Sandy']\n"
     ]
    }
   ],
   "source": [
    "#changing an item in alist\n",
    "#Create a list of strings (names).\n",
    "students = [\"Mark\", \"Amber\", \"Todd\", \"Anita\", \"Sandy\"]\n",
    "students[3] = \"Hobart\"\n",
    "print(students)"
   ]
  },
  {
   "cell_type": "code",
   "execution_count": 8,
   "metadata": {},
   "outputs": [
    {
     "name": "stdout",
     "output_type": "stream",
     "text": [
      "['Zara', 'Lupe', 'Hong', 'Alberto', 'Jake', 'Huey', 'Dewey', 'Louie', 'Nader', 'Bubba']\n"
     ]
    }
   ],
   "source": [
    "#Combining lists\n",
    "\n",
    "# Create two lists of Names.\n",
    "list1 = [\"Zara\", \"Lupe\", \"Hong\", \"Alberto\", \"Jake\"]\n",
    "list2 = [\"Huey\", \"Dewey\", \"Louie\", \"Nader\", \"Bubba\"]\n",
    "# Add list2 names to list1.\n",
    "list1.extend(list2)\n",
    "# Print list 1.\n",
    "print(list1)\n"
   ]
  },
  {
   "cell_type": "code",
   "execution_count": 9,
   "metadata": {},
   "outputs": [
    {
     "name": "stdout",
     "output_type": "stream",
     "text": [
      "['A', 'B', 'D', 'C', 'E', 'C']\n"
     ]
    }
   ],
   "source": [
    "#Create a list of strings.\n",
    "\n",
    "letters = [\"A\", \"B\", \"C\", \"D\", \"C\", \"E\", \"C\"]\n",
    "\n",
    "# Remove \"C\" from the list.\n",
    "# only first letter \"C\" will be removed\n",
    "\n",
    "letters.remove(\"C\")\n",
    "\n",
    "# Show me the new list.\n",
    "\n",
    "print(letters)"
   ]
  },
  {
   "cell_type": "code",
   "execution_count": 11,
   "metadata": {},
   "outputs": [
    {
     "name": "stdout",
     "output_type": "stream",
     "text": [
      "['A', 'B', 'D', 'E']\n",
      "Done\n"
     ]
    }
   ],
   "source": [
    "#To remove the whole of an item use a while loop\n",
    "\n",
    "#Create a list of strings.\n",
    "letters = [\"A\", \"B\", \"C\", \"D\", \"C\", \"E\", \"C\"]\n",
    "\n",
    "# A while loop\n",
    "while \"C\" in letters:\n",
    "    letters.remove(\"C\")\n",
    "print(letters)\n",
    "print(\"Done\")    \n",
    "\n",
    "\n",
    "\n"
   ]
  },
  {
   "cell_type": "code",
   "execution_count": 12,
   "metadata": {},
   "outputs": [
    {
     "name": "stdout",
     "output_type": "stream",
     "text": [
      "['B', 'C', 'D', 'E', 'F']\n"
     ]
    }
   ],
   "source": [
    "#Create a list of strings.\n",
    "letters = [\"A\", \"B\", \"C\", \"D\", \"E\", \"F\", \"G\"]\n",
    "\n",
    "#Remove the first item.\n",
    "letters.pop(0)\n",
    "#Remove the last item.\n",
    "letters.pop()\n",
    "\n",
    "#Show me the new list.\n",
    "print(letters)"
   ]
  },
  {
   "cell_type": "code",
   "execution_count": 14,
   "metadata": {},
   "outputs": [
    {
     "name": "stdout",
     "output_type": "stream",
     "text": [
      "['B', 'C', 'D', 'E', 'F']\n",
      "A and G were removed from the list\n"
     ]
    }
   ],
   "source": [
    "#Create a list of strings.\n",
    "letters = [\"A\", \"B\", \"C\", \"D\", \"E\", \"F\", \"G\"]\n",
    "\n",
    "# Make a copy of first list item then remove it from the list.\n",
    "first_removed = letters.pop(0)\n",
    "#Make a copy of last list item then remove it from the list..\n",
    "last_removed = letters.pop()\n",
    "\n",
    "# Show me the new list.\n",
    "print(letters)\n",
    "# show what's been removed\n",
    "print(first_removed + \" and \" + last_removed + \" were removed from the list\")\n"
   ]
  },
  {
   "cell_type": "code",
   "execution_count": 15,
   "metadata": {},
   "outputs": [
    {
     "name": "stdout",
     "output_type": "stream",
     "text": [
      "['A', 'B', 'D', 'E', 'F', 'G']\n"
     ]
    }
   ],
   "source": [
    ")# Create a list of strings.\n",
    "letters = [\"A\", \"B\", \"C\", \"D\", \"E\", \"F\", \"G\"]\n",
    "\n",
    "# Remove item sub 2.\n",
    "del letters[2]\n",
    "          \n",
    "print(letters"
   ]
  },
  {
   "cell_type": "code",
   "execution_count": 17,
   "metadata": {},
   "outputs": [
    {
     "ename": "NameError",
     "evalue": "name 'letters' is not defined",
     "output_type": "error",
     "traceback": [
      "\u001b[1;31m---------------------------------------------------------------------------\u001b[0m",
      "\u001b[1;31mNameError\u001b[0m                                 Traceback (most recent call last)",
      "\u001b[1;32m<ipython-input-17-a4bb27d46e4d>\u001b[0m in \u001b[0;36m<module>\u001b[1;34m\u001b[0m\n\u001b[0;32m      6\u001b[0m \u001b[1;32mdel\u001b[0m \u001b[0mletters\u001b[0m\u001b[1;33m\u001b[0m\u001b[1;33m\u001b[0m\u001b[0m\n\u001b[0;32m      7\u001b[0m \u001b[1;33m\u001b[0m\u001b[0m\n\u001b[1;32m----> 8\u001b[1;33m \u001b[0mprint\u001b[0m\u001b[1;33m(\u001b[0m\u001b[0mletters\u001b[0m\u001b[1;33m)\u001b[0m\u001b[1;33m\u001b[0m\u001b[1;33m\u001b[0m\u001b[0m\n\u001b[0m",
      "\u001b[1;31mNameError\u001b[0m: name 'letters' is not defined"
     ]
    }
   ],
   "source": [
    "# Usin del to delete the entire list\n",
    "# Create a list of strings.\n",
    "letters = [\"A\", \"B\", \"C\", \"D\", \"E\", \"F\", \"G\"]\n",
    "\n",
    "# Remove item sub 2.\n",
    "del letters\n",
    "          \n",
    "print(letters)"
   ]
  },
  {
   "cell_type": "code",
   "execution_count": 18,
   "metadata": {},
   "outputs": [
    {
     "name": "stdout",
     "output_type": "stream",
     "text": [
      "[]\n"
     ]
    }
   ],
   "source": [
    "# Create a list of strings.\n",
    "letters = [\"A\", \"B\", \"C\", \"D\", \"E\", \"F\", \"G\"]\n",
    "\n",
    "# Clear the list of all entries.\n",
    "letters.clear()\n",
    "\n",
    "# Show me the new list.\n",
    "print(letters)"
   ]
  },
  {
   "cell_type": "code",
   "execution_count": 24,
   "metadata": {},
   "outputs": [
    {
     "name": "stdout",
     "output_type": "stream",
     "text": [
      "There are 2 B grades in the list.\n",
      "There are 3 C grades in the list.\n",
      "There are 0 F grades in the list.\n"
     ]
    }
   ],
   "source": [
    "# Create a list of strings\n",
    "grades = [\"C\",\"B\",\"A\",\"D\",\"C\",\"B\",\"C\"]\n",
    "\n",
    "# Count the B's\n",
    "b_grades = grades.count (\"B\")\n",
    "\n",
    "# Use a variable for count.\n",
    "look_for = \"C\"\n",
    "c_grades = grades.count(look_for)\n",
    "\n",
    "print(\"There are \" + str(b_grades) + \" B grades in the list.\")\n",
    "print(\"There are \" + str(c_grades) + \" \" + look_for + \" grades in the list.\")\n",
    "\n",
    "#count F's too.\n",
    "print(\"There are \" + str(grades.count(\"F\")) + \" F grades in the list.\")"
   ]
  },
  {
   "cell_type": "code",
   "execution_count": 25,
   "metadata": {},
   "outputs": [
    {
     "ename": "ValueError",
     "evalue": "'F' is not in list",
     "output_type": "error",
     "traceback": [
      "\u001b[1;31m---------------------------------------------------------------------------\u001b[0m",
      "\u001b[1;31mValueError\u001b[0m                                Traceback (most recent call last)",
      "\u001b[1;32m<ipython-input-25-b584d7bf0621>\u001b[0m in \u001b[0;36m<module>\u001b[1;34m\u001b[0m\n\u001b[0;32m      7\u001b[0m \u001b[1;31m#Find the index for F\u001b[0m\u001b[1;33m\u001b[0m\u001b[1;33m\u001b[0m\u001b[1;33m\u001b[0m\u001b[0m\n\u001b[0;32m      8\u001b[0m \u001b[0mlook_for\u001b[0m \u001b[1;33m=\u001b[0m \u001b[1;34m\"F\"\u001b[0m\u001b[1;33m\u001b[0m\u001b[1;33m\u001b[0m\u001b[0m\n\u001b[1;32m----> 9\u001b[1;33m \u001b[0mf_index\u001b[0m \u001b[1;33m=\u001b[0m \u001b[0mgrades\u001b[0m\u001b[1;33m.\u001b[0m\u001b[0mindex\u001b[0m\u001b[1;33m(\u001b[0m\u001b[0mlook_for\u001b[0m\u001b[1;33m)\u001b[0m\u001b[1;33m\u001b[0m\u001b[1;33m\u001b[0m\u001b[0m\n\u001b[0m\u001b[0;32m     10\u001b[0m \u001b[1;33m\u001b[0m\u001b[0m\n\u001b[0;32m     11\u001b[0m \u001b[1;31m# Show the results.\u001b[0m\u001b[1;33m\u001b[0m\u001b[1;33m\u001b[0m\u001b[1;33m\u001b[0m\u001b[0m\n",
      "\u001b[1;31mValueError\u001b[0m: 'F' is not in list"
     ]
    }
   ],
   "source": [
    "# Create a list of strings\n",
    "grades = [\"C\",\"B\",\"A\",\"D\",\"C\",\"B\",\"C\"]\n",
    "\n",
    "# Find the index for \"B\"\n",
    "b_index = grades.index(\"B\")\n",
    "\n",
    "#Find the index for F\n",
    "look_for = \"F\"\n",
    "f_index = grades.index(look_for)\n",
    "\n",
    "# Show the results.\n",
    "print(\"The first B is index\" + str(b_index))\n",
    "print(\"The first \"+ look_for + \" is at \" + str(f_index))"
   ]
  },
  {
   "cell_type": "code",
   "execution_count": 26,
   "metadata": {},
   "outputs": [
    {
     "name": "stdout",
     "output_type": "stream",
     "text": [
      "The first B is index1\n",
      "F is not in the list\n"
     ]
    }
   ],
   "source": [
    "# Create a list of strings\n",
    "grades = [\"C\",\"B\",\"A\",\"D\",\"C\",\"B\",\"C\"]\n",
    "\n",
    "# Find the index for \"B\"\n",
    "b_index = grades.index(\"B\")\n",
    "\n",
    "# Show the results.\n",
    "print(\"The first B is index\" + str(b_index))\n",
    "\n",
    "#Find the index for F\n",
    "look_for = \"F\"\n",
    "\n",
    "if look_for in grades:\n",
    "    f_index = grades.index(look_for)\n",
    "    # Show the results.\n",
    "    print(\"The first \"+ look_for + \" is at \" + str(f_index))\n",
    "else:\n",
    "    print(\"F is not in the list\")"
   ]
  },
  {
   "cell_type": "code",
   "execution_count": 27,
   "metadata": {},
   "outputs": [
    {
     "name": "stdout",
     "output_type": "stream",
     "text": [
      "F isn't in the list.\n"
     ]
    }
   ],
   "source": [
    "# Alternative solution\n",
    "\n",
    "# Create a list of strings.\n",
    "grades = [\"C\", \"B\", \"A\", \"D\", \"C\", \"B\", \"C\"]\n",
    "\n",
    "# Decide what to look for\n",
    "look_for = \"F\"\n",
    "# See if the item is in the list.\n",
    "if look_for in grades:\n",
    "    # If it's in the list, get and show the index.\n",
    "    print(str(look_for) + \" is at index \" + str(grades.index(look_for)))\n",
    "else:\n",
    "    # If not in the list, don't even try for index number.\n",
    "    print(str(look_for) + \" isn't in the list.\")"
   ]
  },
  {
   "cell_type": "code",
   "execution_count": 1,
   "metadata": {},
   "outputs": [
    {
     "name": "stdout",
     "output_type": "stream",
     "text": [
      "['Alberto', 'Hong', 'Jake', 'Lupe', 'Tyler', 'Zara']\n",
      "[-4, 0, 11.23, 14, 56, 56, 99]\n"
     ]
    }
   ],
   "source": [
    "# Create a list of strings.\n",
    "names = [\"Zara\",\"Lupe\",\"Hong\",\"Alberto\",\"Jake\",\"Tyler\"]\n",
    "\n",
    "# Create a list of numbers\n",
    "numbers = [14,0,56,-4,99,56,11.23]\n",
    "\n",
    "# Sort the names list.\n",
    "names.sort()\n",
    "# sort the numbers list\n",
    "numbers.sort()\n",
    "\n",
    "# show the results\n",
    "print(names)\n",
    "print(numbers)"
   ]
  },
  {
   "cell_type": "code",
   "execution_count": 3,
   "metadata": {},
   "outputs": [
    {
     "name": "stdout",
     "output_type": "stream",
     "text": [
      "02/28/2018\n",
      "01/31/2019\n",
      "01/01/2020\n",
      "12/31/2020\n"
     ]
    }
   ],
   "source": [
    "#Need this modules for dates \n",
    "import datetime as dt\n",
    "\n",
    "\n",
    "# create a list of dates, empty for starters\n",
    "datelist = []\n",
    "# Append dates one at time so code is easier to read\n",
    "datelist.append(dt.date(2020,12,31))\n",
    "datelist.append(dt.date(2019,1,31))\n",
    "datelist.append(dt.date(2018,2,28))\n",
    "datelist.append(dt.date(2020,1,1))\n",
    "\n",
    "# Sort the dates (earliest to latest)and show formatted.\n",
    "datelist.sort()\n",
    "for date in datelist:\n",
    "    print(f\"{date:%m/%d/%Y}\")"
   ]
  },
  {
   "cell_type": "code",
   "execution_count": 1,
   "metadata": {},
   "outputs": [
    {
     "name": "stdout",
     "output_type": "stream",
     "text": [
      "['Zara', 'Tyler', 'Lupe', 'Jake', 'Hong', 'Alberto']\n",
      "\n",
      "[99, 56, 56, 14, 11.23, 0, -4]\n",
      "\n",
      "12/31/2020\n",
      "01/01/2020\n",
      "01/31/2019\n",
      "02/28/2018\n"
     ]
    }
   ],
   "source": [
    "#Need this modules for dates \n",
    "import datetime as dt\n",
    "\n",
    "# Create a list of strings.\n",
    "names = [\"Zara\",\"Lupe\",\"Hong\",\"Alberto\",\"Jake\",\"Tyler\"]\n",
    "\n",
    "# Create a list of numbers\n",
    "numbers = [14,0,56,-4,99,56,11.23]\n",
    "\n",
    "# create a list of dates, empty for starters\n",
    "datelist = []\n",
    "# Append dates one at time so code is easier to read\n",
    "datelist.append(dt.date(2020,12,31))\n",
    "datelist.append(dt.date(2019,1,31))\n",
    "datelist.append(dt.date(2018,2,28))\n",
    "datelist.append(dt.date(2020,1,1))\n",
    "\n",
    "# Sort strings in reverse order(Z to A) and show. \n",
    "names.sort(reverse = True)\n",
    "print(names)\n",
    "print() # This just adds blnk line to the output.\n",
    "\n",
    "# Sort strings in reverse order(largest to smallest) and show. \n",
    "numbers.sort(reverse = True)\n",
    "print(numbers)\n",
    "print() # This just adds blnk line to the output.\n",
    "\n",
    "# Sort the dates (latest to earliest)and show formatted.\n",
    "datelist.sort(reverse = True)\n",
    "for date in datelist:\n",
    "    print(f\"{date:%m/%d/%Y}\")\n",
    "\n",
    "\n",
    "\n"
   ]
  },
  {
   "cell_type": "code",
   "execution_count": 6,
   "metadata": {},
   "outputs": [
    {
     "name": "stdout",
     "output_type": "stream",
     "text": [
      "['Jake', 'Alberto', 'Hong', 'Lupe', 'Zara']\n"
     ]
    }
   ],
   "source": [
    "# Create a list of strings.\n",
    "names = [\"Zara\", \"Lupe\", \"Hong\", \"Alberto\", \"Jake\"]\n",
    "# Reverse the list\n",
    "names.reverse()\n",
    "# Print the list\n",
    "print(names)"
   ]
  },
  {
   "cell_type": "code",
   "execution_count": 7,
   "metadata": {},
   "outputs": [
    {
     "name": "stdout",
     "output_type": "stream",
     "text": [
      "['Zara', 'Lupe', 'Hong', 'Alberto', 'Jake']\n",
      "['Jake', 'Alberto', 'Hong', 'Lupe', 'Zara']\n"
     ]
    }
   ],
   "source": [
    "# Create a list of strings.\n",
    "names = [\"Zara\", \"Lupe\", \"Hong\", \"Alberto\", \"Jake\"]\n",
    "\n",
    "# Make a copy of the list\n",
    "backward_names = names.copy()\n",
    "# Reverse the copy\n",
    "backward_names.reverse()\n",
    "\n",
    "# Print the list\n",
    "print(names)\n",
    "print(backward_names)"
   ]
  },
  {
   "cell_type": "code",
   "execution_count": 8,
   "metadata": {},
   "outputs": [
    {
     "name": "stdout",
     "output_type": "stream",
     "text": [
      "5\n",
      "1\n",
      "True\n",
      "-1\n",
      "$29.95\n",
      "$9.98\n",
      "$4.95\n",
      "$79.98\n",
      "$2.95\n"
     ]
    }
   ],
   "source": [
    "#Tuples\n",
    "prices = (29.95, 9.98, 4.95, 79.98, 2.95)\n",
    "\n",
    "print(len(prices))\n",
    "\n",
    "print(prices.count(4.95))\n",
    "\n",
    "print(4.95 in prices)\n",
    "\n",
    "look_for = 12345\n",
    "if look_for in prices:\n",
    "    position = prices.index(look_for)\n",
    "else:\n",
    "    position=-1\n",
    "    print(position)\n",
    "    \n",
    "#Loop through and display each item in the tuple.\n",
    "for price in prices:\n",
    "    print(f\"${price:.2f}\")    \n",
    "\n"
   ]
  },
  {
   "cell_type": "code",
   "execution_count": 9,
   "metadata": {},
   "outputs": [
    {
     "name": "stdout",
     "output_type": "stream",
     "text": [
      "{1.98, 98.9, 2.5, 1, 74.95, 16.3}\n",
      "True\n",
      "{16.3, 1.98, 98.9, 2.5, 1, 74.95}\n",
      "6\n",
      "\n",
      "Sample set after .add() and .update()\n",
      "{1.98, 98.9, 2.5, 1, 2.98, 74.95, 11.23, 16.3, 88, 123.45}\n",
      "\n",
      "Loop through set and print each item formatted.\n",
      "$  1.98\n",
      "$ 98.90\n",
      "$  2.50\n",
      "$  1.00\n",
      "$  2.98\n",
      "$ 74.95\n",
      "$ 11.23\n",
      "$ 16.30\n",
      "$ 88.00\n",
      "$123.45\n"
     ]
    }
   ],
   "source": [
    "# Working with sets\n",
    "\n",
    "# Define a set named sample_set.\n",
    "sample_set = {1.98, 98.9, 74.95, 2.5, 1, 16.3}\n",
    "\n",
    "# Show the whole set\n",
    "print(sample_set)\n",
    "\n",
    "# Use in to detrmine if the set contains a value\n",
    "print(74.95 in sample_set)\n",
    "\n",
    "# Make a copy and shoe the copy.\n",
    "ss2 = sample_set.copy()\n",
    "print(ss2)\n",
    "\n",
    "# Use len to get the length of a set\n",
    "print(len(sample_set))\n",
    "\n",
    "#Use add() to add one item to the set \n",
    "sample_set.add(11.23)\n",
    "\n",
    "# Use update() to add a [list] to a set \n",
    "sample_set.update([88, 123.45, 2.98])\n",
    "\n",
    "print(\"\\nSample set after .add() and .update()\")\n",
    "print(sample_set)\n",
    "\n",
    "#Loop through the set and print ech item right-aligned and formatted. \n",
    "print(\"\\nLoop through set and print each item formatted.\" )\n",
    "for price in sample_set:\n",
    "    print(f\"${price:>6.2f}\")\n",
    "\n",
    "\n",
    "\n",
    "\n",
    "\n"
   ]
  },
  {
   "cell_type": "code",
   "execution_count": null,
   "metadata": {},
   "outputs": [],
   "source": []
  }
 ],
 "metadata": {
  "kernelspec": {
   "display_name": "Python 3",
   "language": "python",
   "name": "python3"
  },
  "language_info": {
   "codemirror_mode": {
    "name": "ipython",
    "version": 3
   },
   "file_extension": ".py",
   "mimetype": "text/x-python",
   "name": "python",
   "nbconvert_exporter": "python",
   "pygments_lexer": "ipython3",
   "version": "3.7.1"
  }
 },
 "nbformat": 4,
 "nbformat_minor": 2
}
