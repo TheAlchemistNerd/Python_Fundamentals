{
 "cells": [
  {
   "cell_type": "code",
   "execution_count": 1,
   "metadata": {},
   "outputs": [
    {
     "name": "stdout",
     "output_type": "stream",
     "text": [
      "<__main__.Member object at 0x000000835BF87198>\n",
      "Rambo\n",
      "Rocco moe\n",
      "<class '__main__.Member'>\n"
     ]
    }
   ],
   "source": [
    "# Define a new class named Member.\n",
    "class Member:\n",
    "    \"\"\" Create a new member \"\"\"\n",
    "    def __init__(self, uname,fname):\n",
    "        # Define attributes and give them values.\n",
    "        self.username = uname\n",
    "        self.fullname = fname\n",
    "        \n",
    "# the class ends at the first un-indented line\n",
    "\n",
    "#Create an instance of the member class named new_guy.\n",
    "new_guy = Member('Rambo', 'Rocco moe')\n",
    "\n",
    "# see what's in the instance as well as its individual properties\n",
    "print(new_guy)\n",
    "print(new_guy.username)\n",
    "print(new_guy.fullname)\n",
    "print(type(new_guy))"
   ]
  },
  {
   "cell_type": "code",
   "execution_count": 3,
   "metadata": {},
   "outputs": [
    {
     "name": "stdout",
     "output_type": "stream",
     "text": [
      "Rambo\n",
      "Rocco moe\n",
      "\n",
      "Princess\n",
      "Rocco moe\n"
     ]
    }
   ],
   "source": [
    "# Define a new class named Member.\n",
    "class Member:\n",
    "    \"\"\" Create a new member \"\"\"\n",
    "    def __init__(self, username,fullname):\n",
    "        # Define attributes and give them values.\n",
    "        self.username = username\n",
    "        self.fullname = fullname\n",
    "        \n",
    "# the class ends at the first un-indented line\n",
    "\n",
    "#Create an instance of the member class named new_guy.\n",
    "new_guy = Member('Rambo', 'Rocco moe')\n",
    "\n",
    "# see what's in the instance as well as its individual properties\n",
    "print(new_guy.username)\n",
    "print(new_guy.fullname)\n",
    "print()\n",
    "\n",
    "# Change the new_guy's username then print both attributes again.\n",
    "new_guy.username = \"Princess\"\n",
    "print(new_guy.username)\n",
    "print(new_guy.fullname)\n"
   ]
  },
  {
   "cell_type": "code",
   "execution_count": 8,
   "metadata": {},
   "outputs": [
    {
     "name": "stdout",
     "output_type": "stream",
     "text": [
      "True\n",
      "False\n"
     ]
    }
   ],
   "source": [
    "import datetime as dt\n",
    "\n",
    "# Define a new class name Member.\n",
    "class Member:\n",
    "    \"\"\" Create a new member. \"\"\"\n",
    "    def __init__(self, username, fullname):\n",
    "        # Define attributes and give them values.\n",
    "        self.username = username\n",
    "        self.fullname = fullname\n",
    "        # Default date_joined to today's date.\n",
    "        self.date_joined = dt.date.today()\n",
    "        # Set is active to True initially.\n",
    "        self.is_active = True\n",
    "        \n",
    "    # Methods for each instance created(instance methods)\n",
    "    \n",
    "    # A method to return a formatted string showing the date joined.\n",
    "    def show_datejoined(self):\n",
    "        return f\"{self.fullname} joined on {self.date_joined:%m/%d/%y}\"\n",
    "    \n",
    "    # Method to activate (True) or deactivate (False) account.\n",
    "    def activate(self,yesno):\n",
    "        \"\"\" True for active, False to make inactive\"\"\"\n",
    "        self.is_active = yesno\n",
    "    \n",
    "# The class ends at the first indented line.\n",
    "\n",
    "# Create an instance of the class named new_guy.\n",
    "new_guy = Member('Rambo','Rocco Moe')\n",
    "\n",
    "# Is new_guy active?\n",
    "print(new_guy.is_active)\n",
    "\n",
    "# Try out the activate method.\n",
    "new_guy.activate(False)\n",
    "\n",
    "# is new_guy still active?\n",
    "print(new_guy.is_active)\n",
    "\n",
    "\n",
    "#Try out the date_joined method.\n",
    "print(new_guy.show_datejoined())"
   ]
  },
  {
   "cell_type": "code",
   "execution_count": 14,
   "metadata": {},
   "outputs": [
    {
     "name": "stdout",
     "output_type": "stream",
     "text": [
      "2019-08-18\n",
      "2020-08-17\n"
     ]
    }
   ],
   "source": [
    "import datetime as dt\n",
    "# Define a new class named Member.\n",
    "class Member:\n",
    "    # Default number of free days.\n",
    "    free_days = 365   # Class variable\n",
    "    \n",
    "    \"\"\" Create a new member \"\"\"\n",
    "    def __init__(self,username,fullname):\n",
    "        self.date_joined = dt.date.today()\n",
    "        # Set expiration date\n",
    "        self.free_expires = dt.date.today() + dt.timedelta(days = Member.free_days)\n",
    "        \n",
    "# THe class ends at the first unindented line.\n",
    "\n",
    "# Create an instance of the Member class named new_guy.\n",
    "wilbur = Member('wblogren','Wilbur Blomgren')\n",
    "\n",
    "print(wilbur.date_joined)\n",
    "print(wilbur.free_expires)"
   ]
  },
  {
   "cell_type": "code",
   "execution_count": 17,
   "metadata": {},
   "outputs": [
    {
     "name": "stdout",
     "output_type": "stream",
     "text": [
      "09:50 PM\n",
      "2019-08-18\n",
      "2019-09-17\n"
     ]
    }
   ],
   "source": [
    "import datetime as dt\n",
    "# Define a new class name Member.\n",
    "class Member:\n",
    "    # Default number of free days.\n",
    "    free_days = 365\n",
    "    \n",
    "    \"\"\" Create a new member. \"\"\"\n",
    "    def __init__(self,username,fullname):\n",
    "        self.date_joined = dt.date.today()\n",
    "        # Set an expiration date\n",
    "        self.free_expires = dt.date.today() + dt.timedelta(days = Member.free_days)\n",
    "        \n",
    "    # Class methods follow @classmethod decorator and refer to cls rather than self.\n",
    "    @classmethod\n",
    "    def setfreedays(cls,days):\n",
    "        cls.free_days = days\n",
    "        \n",
    "    @staticmethod\n",
    "    def currenttime():\n",
    "        now = dt.datetime.now()\n",
    "        return f\"{now:%I:%M %p}\"\n",
    "# Class definition ends att last indented line\n",
    "\n",
    "# Try out the new static method (no object required)\n",
    "print(Member.currenttime())\n",
    "        \n",
    "Member.setfreedays(30)\n",
    "wilbur = Member('wblomgren', 'Wilbur Blomgren')\n",
    "print(wilbur.date_joined )\n",
    "print(wilbur.free_expires)\n"
   ]
  },
  {
   "cell_type": "code",
   "execution_count": 22,
   "metadata": {},
   "outputs": [
    {
     "name": "stdout",
     "output_type": "stream",
     "text": [
      "Annie Angst 2119-08-18 PRESTO\n",
      "\n",
      "Uli Ungula 2020-08-17\n"
     ]
    }
   ],
   "source": [
    "import datetime as dt\n",
    "# Class is used for all kinds of people.\n",
    "\n",
    "# Base class is used for all kinds of Members.\n",
    "class Member:\n",
    "    \"\"\" The Member class attributes and methods are for everyone \"\"\"\n",
    "    # By default, a new account expires in one year (365 days)\n",
    "    expiry_days = 365\n",
    "    # Initialize a member object.\n",
    "    def __init__(self, firstname, lastname):\n",
    "        # Attributes (instance variables) for everybody.\n",
    "        self.firstname = firstname\n",
    "        self.lastname = lastname\n",
    "        # Calculate expiry date from today's date.\n",
    "        self.expiry_date = dt.date.today() + dt.timedelta(days=self.expiry_days)\n",
    "        \n",
    "        \n",
    "#Subclass for Admins.\n",
    "class Admin(Member):\n",
    "    # Admin accounts don't expire for 100 years.\n",
    "    expiry_days = 365.2422 * 100    # Overriding a default value from a subclass\n",
    "    # Subclass parameters\n",
    "    def __init__(self, firstname, lastname, secret_code):\n",
    "        # Pass Member parameters on up to Member class.\n",
    "        super().__init__(firstname, lastname)\n",
    "        #Assign the remaining parameter to this object.\n",
    "        self.secret_code = secret_code\n",
    "                        \n",
    "        \n",
    "# Subclass for Users.\n",
    "class User (Member):\n",
    "    pass\n",
    "\n",
    "Ann = Admin('Annie','Angst','PRESTO')\n",
    "print(Ann.firstname, Ann.lastname, Ann.expiry_date, Ann.secret_code)\n",
    "print()\n",
    "\n",
    "Uli = User('Uli', 'Ungula')\n",
    "print(Uli.firstname,  Uli.lastname, Uli.expiry_date)\n"
   ]
  },
  {
   "cell_type": "code",
   "execution_count": 25,
   "metadata": {},
   "outputs": [
    {
     "name": "stdout",
     "output_type": "stream",
     "text": [
      "Annie Angst 2119-08-18 PRESTO\n",
      "Annie Angst expires on 2119-08-18\n",
      "\n",
      "Uli Ungula 2020-08-17 \n",
      "Uli Ungula expires on 2020-08-17\n"
     ]
    }
   ],
   "source": [
    "import datetime as dt\n",
    "\n",
    "class Member:\n",
    "    \"\"\" The Member class attributes and methods are for everyone \"\"\"\n",
    "    # By default, a new account expires in one year (365 days)\n",
    "    expiry_days = 365\n",
    "    # Initialize a member object.\n",
    "    def __init__(self, firstname, lastname):\n",
    "        # Attributes (instance variables) for everybody.\n",
    "        self.firstname = firstname\n",
    "        self.lastname = lastname\n",
    "        # Calculate expiry date from today's date.\n",
    "        self.expiry_date = dt.date.today() + dt.timedelta(days=self.expiry_days)\n",
    "        # Default secret code is nothing\n",
    "        self.secret_code = ''\n",
    "    # Method in the base class\n",
    "    def showexpiry(self):\n",
    "        return f\"{self.firstname} {self.lastname} expires on {self.expiry_date}\"\n",
    "    \n",
    "#Subclass for Admins.\n",
    "class Admin(Member):\n",
    "    # Admin accounts don't expire for 100 years.\n",
    "    expiry_days = 365.2422 * 100    # Overriding a default value from a subclass\n",
    "    # Subclass parameters\n",
    "    def __init__(self, firstname, lastname, secret_code):\n",
    "        # Pass Member parameters on up to Member class.\n",
    "        super().__init__(firstname, lastname)\n",
    "        #Assign the remaining parameter to this object.\n",
    "        self.secret_code = secret_code\n",
    "                        \n",
    "        \n",
    "# Subclass for Users.\n",
    "class User (Member):\n",
    "    pass\n",
    "\n",
    "Ann = Admin('Annie','Angst','PRESTO')\n",
    "print(Ann.firstname, Ann.lastname, Ann.expiry_date, Ann.secret_code)\n",
    "print(Ann.showexpiry())    # Calling base class method\n",
    "\n",
    "print()\n",
    "\n",
    "Uli = User('Uli', 'Ungula')\n",
    "print(Uli.firstname,  Uli.lastname, Uli.expiry_date, Uli.secret_code)\n",
    "print(Uli.showexpiry())    # Calling base class method\n",
    "    \n"
   ]
  },
  {
   "cell_type": "code",
   "execution_count": 29,
   "metadata": {},
   "outputs": [
    {
     "name": "stdout",
     "output_type": "stream",
     "text": [
      "Annie is an Admin.\n",
      "Uli is a regular User.\n",
      "Mindy is a Member.\n"
     ]
    }
   ],
   "source": [
    "class Member:\n",
    "    \"\"\" The Member class attributes and methods \"\"\"\n",
    "    # Initialize a member object.\n",
    "    def __init__(self, firstname, lastname):\n",
    "        # Attributes (instance variables) for everybody.\n",
    "        self.firstname = firstname\n",
    "        self.lastname = lastname\n",
    "    # Method in the base class\n",
    "    def get_status(self):\n",
    "        return f\"{self.firstname} is a Member.\"\n",
    "    \n",
    "    \n",
    "# Subclass for Administrators\n",
    "class Admin(Member):\n",
    "    def get_status(self):\n",
    "        return f\"{self.firstname} is an Admin.\"\n",
    "\n",
    "\n",
    "# Subclass for regular Users\n",
    "class User(Member):\n",
    "    def get_status(self):\n",
    "        return f\"{self.firstname} is a regular User.\"\n",
    "    \n",
    "# Create an Admin\n",
    "Ann = Admin('Annie','Angst')\n",
    "print(Ann.get_status())\n",
    "\n",
    "# Create a User\n",
    "Uli = User('Uli','Ungula')\n",
    "print(Uli.get_status())\n",
    "\n",
    "#Create a member  (neither Admin nor User)\n",
    "Manny = Member('Mindy', 'Membo')\n",
    "print(Manny.get_status())\n",
    "\n",
    "\n"
   ]
  },
  {
   "cell_type": "code",
   "execution_count": null,
   "metadata": {},
   "outputs": [],
   "source": []
  }
 ],
 "metadata": {
  "kernelspec": {
   "display_name": "Python 3",
   "language": "python",
   "name": "python3"
  },
  "language_info": {
   "codemirror_mode": {
    "name": "ipython",
    "version": 3
   },
   "file_extension": ".py",
   "mimetype": "text/x-python",
   "name": "python",
   "nbconvert_exporter": "python",
   "pygments_lexer": "ipython3",
   "version": "3.7.1"
  }
 },
 "nbformat": 4,
 "nbformat_minor": 2
}
