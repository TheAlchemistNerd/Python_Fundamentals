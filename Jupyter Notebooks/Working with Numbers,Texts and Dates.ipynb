{
 "cells": [
  {
   "cell_type": "code",
   "execution_count": 1,
   "metadata": {},
   "outputs": [
    {
     "name": "stdout",
     "output_type": "stream",
     "text": [
      "-4\n",
      "4\n"
     ]
    }
   ],
   "source": [
    "x = -4\n",
    "y = abs(x)\n",
    "print(x)\n",
    "print(y)"
   ]
  },
  {
   "cell_type": "code",
   "execution_count": 2,
   "metadata": {},
   "outputs": [
    {
     "name": "stdout",
     "output_type": "stream",
     "text": [
      "1.234567898765432\n",
      "1.23\n"
     ]
    }
   ],
   "source": [
    "x = 1.2345678987654321000000000000000000000000001\n",
    "y = round(x,2)\n",
    "print(x)\n",
    "print(y)"
   ]
  },
  {
   "cell_type": "code",
   "execution_count": 5,
   "metadata": {},
   "outputs": [
    {
     "name": "stdout",
     "output_type": "stream",
     "text": [
      "9.0\n"
     ]
    }
   ],
   "source": [
    "import math\n",
    "z = 81\n",
    "print(math.sqrt(81))"
   ]
  },
  {
   "cell_type": "code",
   "execution_count": 8,
   "metadata": {},
   "outputs": [
    {
     "name": "stdout",
     "output_type": "stream",
     "text": [
      "3.141592653589793\n",
      "2.718281828459045\n",
      "6.283185307179586\n",
      "9.0\n",
      "5040\n",
      "-23235\n",
      "401.07045659157626\n",
      "0.7853981633974483\n"
     ]
    }
   ],
   "source": [
    "import math\n",
    "pi = math.pi\n",
    "e = math.e\n",
    "tau = math.tau\n",
    "x = 81\n",
    "y = 7\n",
    "z = -23234.5454\n",
    "print(pi)\n",
    "print(e)\n",
    "print(tau)\n",
    "print(math.sqrt(x))\n",
    "print(math.factorial(y))\n",
    "print(math.floor(z))\n",
    "print(math.degrees(y))\n",
    "print(math.radians(45))"
   ]
  },
  {
   "cell_type": "code",
   "execution_count": 9,
   "metadata": {},
   "outputs": [
    {
     "ename": "SyntaxError",
     "evalue": "invalid syntax (<ipython-input-9-35260fb6c7c0>, line 8)",
     "output_type": "error",
     "traceback": [
      "\u001b[1;36m  File \u001b[1;32m\"<ipython-input-9-35260fb6c7c0>\"\u001b[1;36m, line \u001b[1;32m8\u001b[0m\n\u001b[1;33m    print(round(pi,4))\u001b[0m\n\u001b[1;37m        ^\u001b[0m\n\u001b[1;31mSyntaxError\u001b[0m\u001b[1;31m:\u001b[0m invalid syntax\n"
     ]
    }
   ],
   "source": [
    "pi = 3.14159265358979\n",
    "x = 128\n",
    "y = -345.67890987\n",
    "z = -999.9999\n",
    "print(abs(z))\n",
    "print(int(z))\n",
    "print(int(abs(z))\n",
    "print(round(pi,4))\n",
    "print(bin(x))\n",
    "print(hex(x))  \n",
    "print(oct(x))\n",
    "print(max(pi,x,y,z))    \n",
    "print(min(pi,x,y,z))\n",
    "print(type(x))\n",
    "print(type(pi))\n",
    "print(type(str(y)))"
   ]
  },
  {
   "cell_type": "code",
   "execution_count": 27,
   "metadata": {},
   "outputs": [
    {
     "name": "stdout",
     "output_type": "stream",
     "text": [
      "Hello Alan\n"
     ]
    }
   ],
   "source": [
    "username = \"Alan\"\n",
    "print(f\"Hello {username}\")"
   ]
  },
  {
   "cell_type": "code",
   "execution_count": 13,
   "metadata": {},
   "outputs": [
    {
     "name": "stdout",
     "output_type": "stream",
     "text": [
      "Subtotal:$1200.0\n"
     ]
    }
   ],
   "source": [
    "#Formatting with f-strings\n",
    "unit_price = 40.00\n",
    "quantity = 30\n",
    "print(f\"Subtotal:${quantity*unit_price}\")"
   ]
  },
  {
   "cell_type": "code",
   "execution_count": 15,
   "metadata": {},
   "outputs": [
    {
     "name": "stdout",
     "output_type": "stream",
     "text": [
      "Subtotal:$1,470.00\n"
     ]
    }
   ],
   "source": [
    "unit_price = 49.00\n",
    "quantity = 30\n",
    "print(f\"Subtotal:${quantity*unit_price:,.2f}\")"
   ]
  },
  {
   "cell_type": "code",
   "execution_count": 16,
   "metadata": {},
   "outputs": [
    {
     "name": "stdout",
     "output_type": "stream",
     "text": [
      "Sales Tax Rate 0.065\n",
      "Sales Tax Rate 6.50%\n"
     ]
    }
   ],
   "source": [
    "sales_tax_rate = 0.065\n",
    "print(f\"Sales Tax Rate {sales_tax_rate}\")\n",
    "print(f\"Sales Tax Rate {sales_tax_rate:.2%}\")"
   ]
  },
  {
   "cell_type": "code",
   "execution_count": 18,
   "metadata": {},
   "outputs": [
    {
     "name": "stdout",
     "output_type": "stream",
     "text": [
      "Alberto \n",
      "Babs \n",
      "Carlos\n"
     ]
    }
   ],
   "source": [
    "user1 = \"Alberto\"\n",
    "user2 = \"Babs\"\n",
    "user3 = \"Carlos\"\n",
    "output = f\"{user1} \\n{user2} \\n{user3}\"\n",
    "print(output)"
   ]
  },
  {
   "cell_type": "code",
   "execution_count": 20,
   "metadata": {},
   "outputs": [
    {
     "name": "stdout",
     "output_type": "stream",
     "text": [
      "\n",
      "Subtotal:    $1,598.40\n",
      "Sales Tax:   $103.90\n",
      "Total:       $1,702.30\n",
      "\n"
     ]
    }
   ],
   "source": [
    "unit_price = 49.95\n",
    "quantity = 32\n",
    "sales_tax_rate = 0.065\n",
    "subtotal = quantity*unit_price\n",
    "sales_tax = sales_tax_rate*subtotal\n",
    "total = subtotal+sales_tax\n",
    "output = f\"\"\"\n",
    "Subtotal:    ${subtotal:,.2f}\n",
    "Sales Tax:   ${sales_tax:,.2f}\n",
    "Total:       ${total:,.2f}\n",
    "\"\"\"\n",
    "print(output)\n"
   ]
  },
  {
   "cell_type": "code",
   "execution_count": 22,
   "metadata": {},
   "outputs": [
    {
     "name": "stdout",
     "output_type": "stream",
     "text": [
      "\n",
      "Subtotal:  $1,598.40\n",
      "Sales Tax:   $103.90\n",
      "Subtotal:  $1,702.30\n",
      "\n"
     ]
    }
   ],
   "source": [
    "#Numerical value\n",
    "unit_price = 49.95\n",
    "quantity = 32\n",
    "sales_tax_rate = 0.065\n",
    "subtotal = quantity*unit_price\n",
    "total = subtotal+sales_tax\n",
    "\n",
    "#Format amounts to show as string with leading dollar sign\n",
    "s_subtotal = \"$\" + f\"{subtotal:,.2f}\"\n",
    "s_sales_tax = \"$\" + f\"{sales_tax:,.2f}\"\n",
    "s_total = \"$\" + f\"{total:,.2f}\"\n",
    "\n",
    "#Output the string with dollar sign already attached\n",
    "output=f\"\"\"\n",
    "Subtotal:  {s_subtotal:>9}\n",
    "Sales Tax: {s_sales_tax:>9}\n",
    "Subtotal:  {s_total:>9}\n",
    "\"\"\"\n",
    "print(output)"
   ]
  },
  {
   "cell_type": "code",
   "execution_count": 23,
   "metadata": {},
   "outputs": [
    {
     "name": "stdout",
     "output_type": "stream",
     "text": [
      "0b11111111\n",
      "0o377\n",
      "0xff\n",
      "255\n",
      "255\n",
      "255\n"
     ]
    }
   ],
   "source": [
    "x = 255\n",
    "#Convert decmal to other nmber systems\n",
    "print(bin(x))\n",
    "print(oct(x))\n",
    "print(hex(x))\n",
    "\n",
    "#Show number in decimal number system(no conversion required)\n",
    "print(0b11111111)\n",
    "print(0o377)\n",
    "print(0xff)"
   ]
  },
  {
   "cell_type": "code",
   "execution_count": 25,
   "metadata": {},
   "outputs": [
    {
     "name": "stdout",
     "output_type": "stream",
     "text": [
      "Alan C Simpson\n"
     ]
    }
   ],
   "source": [
    "first_name = \"Alan\"\n",
    "middle_int = \"C\"\n",
    "last_name = \"Simpson\"\n",
    "full_name = first_name + \" \" + middle_int + \" \" + last_name\n",
    "print(full_name)"
   ]
  },
  {
   "cell_type": "code",
   "execution_count": 26,
   "metadata": {},
   "outputs": [
    {
     "name": "stdout",
     "output_type": "stream",
     "text": [
      "0\n",
      "1\n",
      "5\n"
     ]
    }
   ],
   "source": [
    "s1 = \"\"\n",
    "s2 = \" \"\n",
    "s3 = \"A B C\"\n",
    "print(len(s1))\n",
    "print(len(s2))\n",
    "print(len(s3))"
   ]
  },
  {
   "cell_type": "code",
   "execution_count": 28,
   "metadata": {},
   "outputs": [
    {
     "name": "stdout",
     "output_type": "stream",
     "text": [
      "2019-07-17\n",
      "2019-12-31\n"
     ]
    }
   ],
   "source": [
    "# import the datetime module give it an alias dt.\n",
    "import datetime as dt\n",
    "# Put today's date in a variable\n",
    "today = dt.date.today()\n",
    "#  put another date in last _of_teens\n",
    "last_of_teens = dt.date(2019,12,31)\n",
    "\n",
    "#See what's in each variable.\n",
    "print(today)\n",
    "print(last_of_teens)\n"
   ]
  },
  {
   "cell_type": "code",
   "execution_count": 6,
   "metadata": {},
   "outputs": [
    {
     "name": "stdout",
     "output_type": "stream",
     "text": [
      "23:59:59.999999\n",
      "11:59 PM\n",
      "23:59:59 and 999999 microseconds\n"
     ]
    }
   ],
   "source": [
    "almost_midnight = dt.time(23,59,59,999999)\n",
    "print(almost_midnight)\n",
    "print(f\"{almost_midnight:%I:%M %p}\")\n",
    "print(f\"{almost_midnight:%H:%M:%S and %f microseconds}\")"
   ]
  },
  {
   "cell_type": "code",
   "execution_count": 7,
   "metadata": {},
   "outputs": [
    {
     "name": "stdout",
     "output_type": "stream",
     "text": [
      "2019-07-25 12:26:48.166621\n"
     ]
    }
   ],
   "source": [
    "import datetime as dt\n",
    "right_now = dt.datetime.now()\n",
    "print(right_now)"
   ]
  },
  {
   "cell_type": "code",
   "execution_count": 8,
   "metadata": {},
   "outputs": [
    {
     "name": "stdout",
     "output_type": "stream",
     "text": [
      "2019-05-27\n"
     ]
    }
   ],
   "source": [
    "import datetime as dt\n",
    "new_years_day = dt.date(2019,1,1)\n",
    "duration = dt.timedelta(days=146)\n",
    "print(new_years_day + duration)"
   ]
  },
  {
   "cell_type": "code",
   "execution_count": 9,
   "metadata": {},
   "outputs": [
    {
     "name": "stdout",
     "output_type": "stream",
     "text": [
      "6:34:45\n",
      "<class 'datetime.timedelta'>\n"
     ]
    }
   ],
   "source": [
    "import datetime as dt\n",
    "start_time = dt.datetime(2019, 3, 31, 8, 0, 0)\n",
    "finish_time = dt.datetime(2019, 3, 31, 14, 34, 45)\n",
    "time_between = finish_time - start_time\n",
    "print(time_between)\n",
    "print(type(time_between))"
   ]
  },
  {
   "cell_type": "code",
   "execution_count": 10,
   "metadata": {},
   "outputs": [
    {
     "name": "stdout",
     "output_type": "stream",
     "text": [
      "8882 days, 4:04:30.922580\n",
      "<class 'datetime.timedelta'>\n"
     ]
    }
   ],
   "source": [
    "import datetime as dt\n",
    "now = dt.datetime.now()\n",
    "birthdatetime = dt.datetime(1995, 3, 31, 8, 26)\n",
    "age = now - birthdatetime\n",
    "print(age)\n",
    "print(type(age))"
   ]
  }
 ],
 "metadata": {
  "kernelspec": {
   "display_name": "Python 3",
   "language": "python",
   "name": "python3"
  },
  "language_info": {
   "codemirror_mode": {
    "name": "ipython",
    "version": 3
   },
   "file_extension": ".py",
   "mimetype": "text/x-python",
   "name": "python",
   "nbconvert_exporter": "python",
   "pygments_lexer": "ipython3",
   "version": "3.7.1"
  }
 },
 "nbformat": 4,
 "nbformat_minor": 2
}
