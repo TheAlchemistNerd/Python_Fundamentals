{
 "cells": [
  {
   "cell_type": "code",
   "execution_count": 1,
   "metadata": {},
   "outputs": [
    {
     "name": "stdout",
     "output_type": "stream",
     "text": [
      "Hello\n"
     ]
    }
   ],
   "source": [
    "# Defining a function\n",
    "def hello():\n",
    "    print(\"Hello\")\n",
    "    \n",
    "# Calling the funcion\n",
    "hello()"
   ]
  },
  {
   "cell_type": "code",
   "execution_count": 3,
   "metadata": {},
   "outputs": [
    {
     "name": "stdout",
     "output_type": "stream",
     "text": [
      "Hello\n"
     ]
    }
   ],
   "source": [
    "# Commenting a function\n",
    "def hello():  # Practice function\n",
    "    \"\"\"\" A docstring describing the function \"\"\"\n",
    "    print('Hello')\n",
    "    \n",
    "hello()\n",
    "    \n",
    "    "
   ]
  },
  {
   "cell_type": "code",
   "execution_count": 7,
   "metadata": {},
   "outputs": [
    {
     "name": "stdout",
     "output_type": "stream",
     "text": [
      "Hello Alan\n",
      "Hello Olly\n"
     ]
    }
   ],
   "source": [
    "# Passing information (parameters) to a function.\n",
    "def hello(user_name): # Practice function\n",
    "    \"\"\" A docstring describing the function \"\"\"\n",
    "    print('Hello ' + user_name)\n",
    "    \n",
    "# Call the function with a parameter.\n",
    "hello('Alan')\n",
    "\n",
    "# Put a string in a variable named this_person\n",
    "this_person = 'Olly'\n",
    "\n",
    "#Pass the variable name to the function\n",
    "hello(this_person)\n",
    "\n"
   ]
  },
  {
   "cell_type": "code",
   "execution_count": 8,
   "metadata": {},
   "outputs": [
    {
     "name": "stdout",
     "output_type": "stream",
     "text": [
      "Hello Alan\n",
      "Hello nobody\n"
     ]
    }
   ],
   "source": [
    "# Default parameters.\n",
    "def hello(user_name = 'nobody'):    # Practice function\n",
    "    \"\"\" A docstring describing the function\"\"\"\n",
    "    print('Hello ' + user_name)\n",
    "    \n",
    "hello('Alan')\n",
    "hello()"
   ]
  },
  {
   "cell_type": "code",
   "execution_count": 10,
   "metadata": {},
   "outputs": [
    {
     "name": "stdout",
     "output_type": "stream",
     "text": [
      "Hello Alan Simpson\n",
      "The date is 12/31/2019\n"
     ]
    }
   ],
   "source": [
    "# Passing multiple parameters to function\n",
    "def hello(fname,lname,datestring):    # Practice function\n",
    "    \"\"\" A docstring describing the function\"\"\"\n",
    "    print('Hello ' + fname + ' ' + lname)\n",
    "    print('The date is ' + datestring)\n",
    "    \n",
    "hello('Alan', 'Simpson', '12/31/2019')\n",
    "    \n"
   ]
  },
  {
   "cell_type": "code",
   "execution_count": 2,
   "metadata": {},
   "outputs": [
    {
     "name": "stdout",
     "output_type": "stream",
     "text": [
      "Hello Alan Simpson you mentioned 12/31/2019\n"
     ]
    }
   ],
   "source": [
    "def hello(fname,lname,datestring):    # Practice function\n",
    "    \"\"\" A docstring describing the function \"\"\"\n",
    "    msg = \"Hello \" + fname +' ' + lname\n",
    "    msg += \" you mentioned \" + datestring\n",
    "    print(msg)\n",
    "    \n",
    "hello('Alan', 'Simpson', '12/31/2019')"
   ]
  },
  {
   "cell_type": "code",
   "execution_count": 3,
   "metadata": {},
   "outputs": [
    {
     "name": "stdout",
     "output_type": "stream",
     "text": [
      "Hello Alan Simpson you mentioned 12/31/2019\n",
      "Hello Sammy Schmeedledorp\n"
     ]
    }
   ],
   "source": [
    "def hello(fname,lname,datestring = ''):    # Practice function\n",
    "    \"\"\" A docstring describing the function \"\"\"\n",
    "    msg = \"Hello \" + fname + ' ' + lname\n",
    "    if len(datestring) > 0:\n",
    "        msg += ' you mentioned ' + datestring\n",
    "    print(msg)\n",
    "    \n",
    "hello('Alan', 'Simpson', '12/31/2019')\n",
    "hello('Sammy','Schmeedledorp')"
   ]
  },
  {
   "cell_type": "code",
   "execution_count": 6,
   "metadata": {},
   "outputs": [
    {
     "name": "stdout",
     "output_type": "stream",
     "text": [
      "Hello Alan Simpson you mentioned 12/31/2019\n",
      "Hello Kylie Janda you mentioned 12/31/2019\n"
     ]
    }
   ],
   "source": [
    "# Using keyword arguments (kwargs)\n",
    "def hello(fname,lname,datestring):\n",
    "    \"\"\" a docstring describing the function\"\"\"\n",
    "    msg = \"Hello \" + fname + ' ' + lname\n",
    "    msg += \" you mentioned \" + datestring\n",
    "    print(msg)\n",
    "    \n",
    "# Pas in literal kwargs (identify each by parameter name)\n",
    "hello(datestring = '12/31/2019', lname = 'Simpson', fname = 'Alan')\n",
    "\n",
    "# Pass in the kwargs from variables (identify each by parameter name)\n",
    "appt_date = '12/31/2019'\n",
    "last_name = 'Janda'\n",
    "first_name = 'Kylie'\n",
    "hello(datestring = appt_date, lname = last_name, fname = first_name)\n"
   ]
  },
  {
   "cell_type": "code",
   "execution_count": 14,
   "metadata": {},
   "outputs": [
    {
     "name": "stdout",
     "output_type": "stream",
     "text": [
      "Caroline, Evans, Francis, Meline, Nevil, Patience, Shirley\n",
      "Adams, Maier, Santiago, Schrepfer\n"
     ]
    }
   ],
   "source": [
    "def alphabetize(original_list=[]):\n",
    "    \"\"\" Pass any list in square brackets, displays a string with items\n",
    "    sorted \"\"\"\n",
    "    # Inside the function make a working copy of the list passed in.\n",
    "    sorted_list = original_list.copy()\n",
    "    # Sort the working copy.\n",
    "    sorted_list.sort()\n",
    "    # Make a new empty string for output\n",
    "    final_list = ''\n",
    "    # Loop through sorted list and append name and comma and space.\n",
    "    for name in sorted_list:\n",
    "        final_list += name + ', '\n",
    "    # Knock of last comma space if final list is long enough\n",
    "    final_list = final_list[:-2]\n",
    "    # Print the alphabetized list.\n",
    "    print(final_list)\n",
    "    \n",
    "alphabetize(['Nevil','Evans','Patience','Shirley','Meline','Caroline','Francis'])\n",
    "\n",
    "#  Pass the name of the variable that contains the list\n",
    "names = ['Schrepfer', 'Maier', 'Santiago', 'Adams']\n",
    "alphabetize(names)\n"
   ]
  },
  {
   "cell_type": "code",
   "execution_count": 17,
   "metadata": {},
   "outputs": [
    {
     "name": "stdout",
     "output_type": "stream",
     "text": [
      "[-900, 0.001, 1, 2, 100000]\n"
     ]
    }
   ],
   "source": [
    "def sorter(*args):    # Passing in arbitrary number of arguments\n",
    "    \"\"\" Pass in any number of arguments separated by commas\n",
    "    Inside the function, they are treated as a tuple named args \"\"\"\n",
    "    # The passed-in\n",
    "    # Create a list from the passed in tuple\n",
    "    newlist = list(args)\n",
    "    # Sort and show the list\n",
    "    newlist.sort()\n",
    "    print(newlist)\n",
    "    \n",
    "sorter(1,0.001,100000,-900,2) \n"
   ]
  },
  {
   "cell_type": "code",
   "execution_count": 18,
   "metadata": {},
   "outputs": [
    {
     "name": "stdout",
     "output_type": "stream",
     "text": [
      "Gallagher, Jacobs, Keaser, Maier, McMullen, Wilson, Yudt\n"
     ]
    }
   ],
   "source": [
    "# Returning values from functions\n",
    "\n",
    "def alphabetize(original_list=[]):\n",
    "    \"\"\" Pass any list in square brackets, displays a string with items\n",
    "    sorted \"\"\"\n",
    "    # Inside the function make a working copy of the list passed in.\n",
    "    sorted_list = original_list.copy()\n",
    "    # Sort the working copy.\n",
    "    sorted_list.sort()\n",
    "    # Make a new empty string for output\n",
    "    final_list = ''\n",
    "    # Loop through sorted list and append name and comma and space.\n",
    "    for name in sorted_list:\n",
    "        final_list += name + ', '\n",
    "    # Knock of last comma space if final list is long enough\n",
    "    final_list = final_list[:-2]\n",
    "    # Return the alphabetized list.\n",
    "    return final_list\n",
    "\n",
    "random_list = ['McMullen', 'Keaser', 'Maier', 'Wilson', 'Yudt', 'Gallagher',\n",
    "   'Jacobs']\n",
    "alpha_list = alphabetize(random_list)\n",
    "print(alpha_list)\n",
    "\n"
   ]
  },
  {
   "cell_type": "code",
   "execution_count": 22,
   "metadata": {},
   "outputs": [
    {
     "name": "stdout",
     "output_type": "stream",
     "text": [
      "['Adams', 'diMeola', 'Ma', 'Zandusky']\n",
      "['Adams', 'diMeola', 'Ma', 'Zandusky']\n"
     ]
    }
   ],
   "source": [
    "# Anonymous (lambda) functions\n",
    "\n",
    "names = ['Adams','Ma','diMeola','Zandusky']\n",
    "\n",
    "# defining the lambda function\n",
    "names.sort(key = lambda anystring : anystring.lower())\n",
    "print(names)\n",
    "\n",
    "\n",
    "# Code with ordinary function\n",
    "def lowercaseof(anystring):\n",
    "    \"\"\" Converts string to all lowercase \"\"\"\n",
    "    return anystring.lower()\n",
    "names = ['Adams', 'Ma', 'diMeola', 'Zandusky']\n",
    "names.sort(key=lowercaseof)\n",
    "print(names)"
   ]
  },
  {
   "cell_type": "code",
   "execution_count": 23,
   "metadata": {},
   "outputs": [
    {
     "name": "stdout",
     "output_type": "stream",
     "text": [
      "$99.00\n",
      "$123,456,789.10\n",
      "$6.50%\n",
      "$50.00%\n"
     ]
    }
   ],
   "source": [
    "# Lambda function do not necessarily need to be anonymous\n",
    "\n",
    "# Show number in currency format.\n",
    "currency = lambda n : f\"${n:,.2f}\"\n",
    "# Show number in percent format.\n",
    "percent = lambda n : f\"${n:,.2%}\"\n",
    "\n",
    "# Test currency function\n",
    "print(currency(99))\n",
    "print(currency(123456789.09876543))\n",
    "\n",
    "# Test the percent function\n",
    "print(percent(0.065))\n",
    "print(percent(.5))"
   ]
  },
  {
   "cell_type": "code",
   "execution_count": 25,
   "metadata": {},
   "outputs": [
    {
     "name": "stdout",
     "output_type": "stream",
     "text": [
      "     $99,999.00\n",
      "           6.5%\n"
     ]
    }
   ],
   "source": [
    "# Show number in currency format.\n",
    "\n",
    "def currency(n,w = 15):\n",
    "    \"\"\" Show in currency format, width = 15 or width of your choosing\"\"\"\n",
    "    s = f\"${n:,.2f}\"\n",
    "    # Pad left of output with spaces to width of w.\n",
    "    return s.rjust(w)\n",
    "\n",
    "\n",
    "# Show number in percent format.\n",
    "def percent(n,w = 15):\n",
    "    \"\"\" Show in percent format, width = 15 or width of your choosing\"\"\"\n",
    "    s = f\"{n:,.1%}\"\n",
    "    # Pad left of output with spaces to width of w.\n",
    "    return s.rjust(w)\n",
    "\n",
    "# Test currency function\n",
    "print(currency(99999))\n",
    "\n",
    "# Test the percent function\n",
    "print(percent(0.065))"
   ]
  }
 ],
 "metadata": {
  "kernelspec": {
   "display_name": "Python 3",
   "language": "python",
   "name": "python3"
  },
  "language_info": {
   "codemirror_mode": {
    "name": "ipython",
    "version": 3
   },
   "file_extension": ".py",
   "mimetype": "text/x-python",
   "name": "python",
   "nbconvert_exporter": "python",
   "pygments_lexer": "ipython3",
   "version": "3.7.1"
  }
 },
 "nbformat": 4,
 "nbformat_minor": 2
}
