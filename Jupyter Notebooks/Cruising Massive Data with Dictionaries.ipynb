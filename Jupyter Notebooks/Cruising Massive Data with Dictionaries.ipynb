{
 "cells": [
  {
   "cell_type": "code",
   "execution_count": 1,
   "metadata": {},
   "outputs": [
    {
     "name": "stdout",
     "output_type": "stream",
     "text": [
      "{'htanaka': 'Haru Tanaka', 'ppatel': 'Priya Patel', 'bagarcia': 'Benjamin Alberto Garcia', 'zmin': 'Zhang Min', 'afarooqi': 'Ayesha Farooqi', 'hajackson': 'Hanna Jackson', 'papatel': 'Pratyush Aarav Patel', 'hrjackson': 'Henry Jackson'}\n",
      "Zhang Min\n",
      "Zhang Min\n",
      "Henry Jackson\n"
     ]
    }
   ],
   "source": [
    "# Make a data dictinary named people\n",
    "people = {\n",
    "'htanaka': 'Haru Tanaka',\n",
    "'ppatel': 'Priya Patel',\n",
    "'bagarcia': 'Benjamin Alberto Garcia',\n",
    "'zmin': 'Zhang Min',\n",
    "'afarooqi': 'Ayesha Farooqi',\n",
    "'hajackson': 'Hanna Jackson',\n",
    "'papatel': 'Pratyush Aarav Patel',\n",
    "'hrjackson': 'Henry Jackson'\n",
    "}\n",
    "\n",
    "# print the data dictionary\n",
    "print(people)\n",
    "\n",
    "# print the value of a particular key\n",
    "print(people['zmin'])\n",
    "\n",
    "# Store the key in a variable then print its value\n",
    "person = 'zmin'\n",
    "print(people[person])\n",
    "\n",
    "person = 'hrjackson'\n",
    "print(people[person])\n",
    "\n"
   ]
  },
  {
   "cell_type": "code",
   "execution_count": 2,
   "metadata": {},
   "outputs": [
    {
     "ename": "KeyError",
     "evalue": "'schmeedledorp'",
     "output_type": "error",
     "traceback": [
      "\u001b[1;31m---------------------------------------------------------------------------\u001b[0m",
      "\u001b[1;31mKeyError\u001b[0m                                  Traceback (most recent call last)",
      "\u001b[1;32m<ipython-input-2-3467909a4f49>\u001b[0m in \u001b[0;36m<module>\u001b[1;34m\u001b[0m\n\u001b[0;32m     14\u001b[0m \u001b[1;33m\u001b[0m\u001b[0m\n\u001b[0;32m     15\u001b[0m \u001b[0mperson\u001b[0m \u001b[1;33m=\u001b[0m \u001b[1;34m'schmeedledorp'\u001b[0m\u001b[1;33m\u001b[0m\u001b[1;33m\u001b[0m\u001b[0m\n\u001b[1;32m---> 16\u001b[1;33m \u001b[0mprint\u001b[0m\u001b[1;33m(\u001b[0m\u001b[0mpeople\u001b[0m\u001b[1;33m[\u001b[0m\u001b[0mperson\u001b[0m\u001b[1;33m]\u001b[0m\u001b[1;33m)\u001b[0m\u001b[1;33m\u001b[0m\u001b[1;33m\u001b[0m\u001b[0m\n\u001b[0m",
      "\u001b[1;31mKeyError\u001b[0m: 'schmeedledorp'"
     ]
    }
   ],
   "source": [
    "# How about an element thats not in the dictionary \n",
    "\n",
    "# Make a data dictinary named people\n",
    "people = {\n",
    "'htanaka': 'Haru Tanaka',\n",
    "'ppatel': 'Priya Patel',\n",
    "'bagarcia': 'Benjamin Alberto Garcia',\n",
    "'zmin': 'Zhang Min',\n",
    "'afarooqi': 'Ayesha Farooqi',\n",
    "'hajackson': 'Hanna Jackson',\n",
    "'papatel': 'Pratyush Aarav Patel',\n",
    "'hrjackson': 'Henry Jackson'\n",
    "}\n",
    "\n",
    "person = 'schmeedledorp'\n",
    "print(people[person])\n"
   ]
  },
  {
   "cell_type": "code",
   "execution_count": 1,
   "metadata": {},
   "outputs": [
    {
     "name": "stdout",
     "output_type": "stream",
     "text": [
      "key not in the dictionary\n"
     ]
    }
   ],
   "source": [
    "# Refactoring the code\n",
    "# How about an element thats not in the dictionary \n",
    "\n",
    "# Make a data dictinary named people\n",
    "people = {\n",
    "'htanaka': 'Haru Tanaka',\n",
    "'ppatel': 'Priya Patel',\n",
    "'bagarcia': 'Benjamin Alberto Garcia',\n",
    "'zmin': 'Zhang Min',\n",
    "'afarooqi': 'Ayesha Farooqi',\n",
    "'hajackson': 'Hanna Jackson',\n",
    "'papatel': 'Pratyush Aarav Patel',\n",
    "'hrjackson': 'Henry Jackson'\n",
    "}\n",
    "\n",
    "person = 'schmeedledorp'\n",
    "try:\n",
    "    print(people[person])\n",
    "except:\n",
    "    print(\"key not in the dictionary\")\n",
    "    \n"
   ]
  },
  {
   "cell_type": "code",
   "execution_count": 3,
   "metadata": {},
   "outputs": [
    {
     "name": "stdout",
     "output_type": "stream",
     "text": [
      "8\n"
     ]
    }
   ],
   "source": [
    "# How about an element thats not in the dictionary \n",
    "\n",
    "# Make a data dictinary named people\n",
    "people = {\n",
    "    'htanaka': 'Haru Tanaka',\n",
    "    'ppatel': 'Priya Patel',\n",
    "    'bagarcia': 'Benjamin Alberto Garcia',\n",
    "    'zmin': 'Zhang Min',\n",
    "    'afarooqi': 'Ayesha Farooqi',\n",
    "    'hajackson': 'Hanna Jackson',\n",
    "    'papatel': 'Pratyush Aarav Patel',\n",
    "    'hrjackson': 'Henry Jackson'\n",
    "}\n",
    "\n",
    "# Count the number of key:value pairs and put in a variable.\n",
    "howmany = len(people)\n",
    "# Show how many.\n",
    "print(howmany)"
   ]
  },
  {
   "cell_type": "code",
   "execution_count": 4,
   "metadata": {},
   "outputs": [
    {
     "name": "stdout",
     "output_type": "stream",
     "text": [
      "False\n",
      "True\n"
     ]
    }
   ],
   "source": [
    "# How about an element thats not in the dictionary \n",
    "\n",
    "# Make a data dictinary named people\n",
    "people = {\n",
    "    \n",
    "       'htanaka': 'Haru Tanaka',\n",
    "       'ppatel': 'Priya Patel',\n",
    "       'bagarcia': 'Benjamin Alberto Garcia',\n",
    "       'zmin': 'Zhang Min',\n",
    "       'afarooqi': 'Ayesha Farooqi',\n",
    "       'hajackson': 'Hanna Jackson',\n",
    "       'papatel': 'Pratyush Aarav Patel',\n",
    "       'hrjackson': 'Henry Jackson'\n",
    "}\n",
    "\n",
    "# Is there a schmeedledorp in people dictionary?\n",
    "print('schmeedledorp' in people)\n",
    "\n",
    "# Is there an hajackson in people dictionary\n",
    "print ('hajackson' in people)\n"
   ]
  },
  {
   "cell_type": "code",
   "execution_count": 6,
   "metadata": {},
   "outputs": [
    {
     "name": "stdout",
     "output_type": "stream",
     "text": [
      "None\n"
     ]
    }
   ],
   "source": [
    "#Geting dictionary data with get()\n",
    "\n",
    "# Make a data dictinary named people\n",
    "people = {\n",
    "     'htanaka': 'Haru Tanaka',\n",
    "     'ppatel': 'Priya Patel',\n",
    "     'bagarcia': 'Benjamin Alberto Garcia',\n",
    "     'zmin': 'Zhang Min',\n",
    "     'afarooqi': 'Ayesha Farooqi',\n",
    "     'hajackson': 'Hanna Jackson',\n",
    "     'papatel': 'Pratyush Aarav Patel',\n",
    "     'hrjackson': 'Henry Jackson'\n",
    "     }\n",
    "\n",
    "#Look for a person.\n",
    "person = 'schmeedledorp'\n",
    "print(people.get(person))   # does not return keyError"
   ]
  },
  {
   "cell_type": "code",
   "execution_count": 7,
   "metadata": {},
   "outputs": [
    {
     "name": "stdout",
     "output_type": "stream",
     "text": [
      "Unbeknownst to this dictionary\n"
     ]
    }
   ],
   "source": [
    "# Passing two values to the get()\n",
    "\n",
    "# Make a data dictinary named people\n",
    "people = {\n",
    "     'htanaka': 'Haru Tanaka',\n",
    "     'ppatel': 'Priya Patel',\n",
    "     'bagarcia': 'Benjamin Alberto Garcia',\n",
    "     'zmin': 'Zhang Min',\n",
    "     'afarooqi': 'Ayesha Farooqi',\n",
    "     'hajackson': 'Hanna Jackson',\n",
    "     'papatel': 'Pratyush Aarav Patel',\n",
    "     'hrjackson': 'Henry Jackson'\n",
    "     }\n",
    "\n",
    "#Look for a person.\n",
    "person = 'schmeedledorp'\n",
    "print(people.get(person, 'Unbeknownst to this dictionary'))"
   ]
  },
  {
   "cell_type": "code",
   "execution_count": 9,
   "metadata": {},
   "outputs": [
    {
     "name": "stdout",
     "output_type": "stream",
     "text": [
      "Hanna Jackson\n",
      "Hanna Jackson-Smith\n"
     ]
    }
   ],
   "source": [
    "# Make a data dictinary named people\n",
    "people = {\n",
    "     'htanaka': 'Haru Tanaka',\n",
    "     'ppatel': 'Priya Patel',\n",
    "     'bagarcia': 'Benjamin Alberto Garcia',\n",
    "     'zmin': 'Zhang Min',\n",
    "     'afarooqi': 'Ayesha Farooqi',\n",
    "     'hajackson': 'Hanna Jackson',\n",
    "     'papatel': 'Pratyush Aarav Patel',\n",
    "     'hrjackson': 'Henry Jackson'\n",
    "     }\n",
    "\n",
    "# print hajackson's current value\n",
    "print(people['hajackson'])\n",
    "\n",
    "# change the value of the hajackson key\n",
    "people['hajackson'] = \"Hanna Jackson-Smith\"\n",
    "\n",
    "# Print the hajackson key to verify that the value has changed\n",
    "print(people['hajackson'])"
   ]
  },
  {
   "cell_type": "code",
   "execution_count": 2,
   "metadata": {},
   "outputs": [
    {
     "name": "stdout",
     "output_type": "stream",
     "text": [
      "{'papatel': 'Pratyush Aarav Patel', 'hrjackson': 'Henrietta Jackson'}\n",
      "{'papatel': 'Pratyush Aarav Patel', 'hrjackson': 'Henrietta Jackson', 'wwiggins': 'Wanda Wiggins'}\n"
     ]
    }
   ],
   "source": [
    "# Make a data dictionary named people.\n",
    "people = {\n",
    "    'papatel': 'Pratyush Aarav Patel',\n",
    "    'hrjackson': 'Henry Jackson'\n",
    "    }\n",
    "\n",
    "# Change the value of the hrjackson key.\n",
    "people.update({'hrjackson':'Henrietta Jackson'})\n",
    "print(people)\n",
    "\n",
    "# Update the dictionary with a new property:value pair.\n",
    "people.update({'wwiggins':'Wanda Wiggins'})\n",
    "print(people)"
   ]
  },
  {
   "cell_type": "code",
   "execution_count": 11,
   "metadata": {},
   "outputs": [
    {
     "name": "stdout",
     "output_type": "stream",
     "text": [
      "{'papatel': 'Pratyush Aarav Patel', 'hrjackson': 'Henrietta Jackson'}\n",
      "papatel=Pratyush Aarav Patel\n",
      "hrjackson=Henrietta Jackson\n",
      "wwiggins=Wanda Wiggins\n"
     ]
    }
   ],
   "source": [
    "# Make a data dictionary named people.\n",
    "people = {\n",
    "    'papatel': 'Pratyush Aarav Patel',\n",
    "    'hrjackson': 'Henry Jackson'\n",
    "    }\n",
    "\n",
    "# Change the value of the hrjackson key.\n",
    "people.update({'hrjackson':'Henrietta Jackson'})\n",
    "print(people)\n",
    "\n",
    "# Update the dictionary with a new property:value pair.\n",
    "people.update({'wwiggins':'Wanda Wiggins'})\n",
    "\n",
    "# Show what's in the data dictionary now.\n",
    "for person in people.keys():\n",
    "    print(person + \"=\" + people[person])"
   ]
  },
  {
   "cell_type": "code",
   "execution_count": 16,
   "metadata": {},
   "outputs": [
    {
     "name": "stdout",
     "output_type": "stream",
     "text": [
      "htanaka\n",
      "ppatel\n",
      "bagarcia\n",
      "zmin\n",
      "afarooqi\n",
      "hajackson\n",
      "papatel\n",
      "hrjackson\n",
      "Done\n",
      "\n",
      "Haru Tanaka\n",
      "Priya Patel\n",
      "Benjamin Alberto Garcia\n",
      "Zhang Min\n",
      "Ayesha Farooqi\n",
      "Hanna Jackson\n",
      "Pratyush Aarav Patel\n",
      "Henry Jackson\n",
      "Done\n",
      "\n",
      "Haru Tanaka\n",
      "Priya Patel\n",
      "Benjamin Alberto Garcia\n",
      "Zhang Min\n",
      "Ayesha Farooqi\n",
      "Hanna Jackson\n",
      "Pratyush Aarav Patel\n",
      "Henry Jackson\n",
      "Done\n",
      "\n"
     ]
    }
   ],
   "source": [
    "# loooping through a dictionary\n",
    "\n",
    "# Make a data dictinary named people\n",
    "people = {\n",
    "     'htanaka': 'Haru Tanaka',\n",
    "     'ppatel': 'Priya Patel',\n",
    "     'bagarcia': 'Benjamin Alberto Garcia',\n",
    "     'zmin': 'Zhang Min',\n",
    "     'afarooqi': 'Ayesha Farooqi',\n",
    "     'hajackson': 'Hanna Jackson',\n",
    "     'papatel': 'Pratyush Aarav Patel',\n",
    "     'hrjackson': 'Henry Jackson'\n",
    "     }\n",
    "\n",
    "# To get all the keys\n",
    "for person in people:\n",
    "    print(person)\n",
    "print(\"Done\\n\")  \n",
    "\n",
    "# To see value of each item\n",
    "for person in people:\n",
    "    print(people[person])\n",
    "print(\"Done\\n\")\n",
    "    \n",
    "# To see value of each item\n",
    "for person in people.values():\n",
    "    print(person)\n",
    "print(\"Done\\n\")   \n",
    "    \n",
    "\n"
   ]
  },
  {
   "cell_type": "code",
   "execution_count": 17,
   "metadata": {},
   "outputs": [
    {
     "name": "stdout",
     "output_type": "stream",
     "text": [
      "htanaka = Haru Tanaka\n",
      "ppatel = Priya Patel\n",
      "bagarcia = Benjamin Alberto Garcia\n",
      "zmin = Zhang Min\n",
      "afarooqi = Ayesha Farooqi\n",
      "hajackson = Hanna Jackson\n",
      "papatel = Pratyush Aarav Patel\n",
      "hrjackson = Henry Jackson\n"
     ]
    }
   ],
   "source": [
    "# Make a data dictinary named people\n",
    "people = {\n",
    "     'htanaka': 'Haru Tanaka',\n",
    "     'ppatel': 'Priya Patel',\n",
    "     'bagarcia': 'Benjamin Alberto Garcia',\n",
    "     'zmin': 'Zhang Min',\n",
    "     'afarooqi': 'Ayesha Farooqi',\n",
    "     'hajackson': 'Hanna Jackson',\n",
    "     'papatel': 'Pratyush Aarav Patel',\n",
    "     'hrjackson': 'Henry Jackson'\n",
    "     }\n",
    "\n",
    "# Loop through items to get the key and value.\n",
    "for key, value in people.items():\n",
    "    # Show the key and value with = in between\n",
    "    print(key, '=', value)"
   ]
  },
  {
   "cell_type": "code",
   "execution_count": 22,
   "metadata": {},
   "outputs": [
    {
     "name": "stdout",
     "output_type": "stream",
     "text": [
      "{'htanaka': 'Haru tanaka', 'zmin': 'Zhang Min', 'afarooqi': 'Ayesh Farooqi'}\n",
      "{'htanaka': 'Haru tanaka', 'zmin': 'Zhang Min', 'afarooqi': 'Ayesh Farooqi'}\n"
     ]
    }
   ],
   "source": [
    "# Define a dictioonary named people\n",
    "people = {\n",
    "    'htanaka': 'Haru tanaka',\n",
    "    'zmin': 'Zhang Min',\n",
    "    'afarooqi': 'Ayesh Farooqi',\n",
    "   }\n",
    "\n",
    "# Make a copy of the people dictionary and put it in peeps 2\n",
    "peeps2 = people.copy()\n",
    "\n",
    "#Show what's in both dictionaries\n",
    "print(people)\n",
    "print(peeps2)"
   ]
  },
  {
   "cell_type": "code",
   "execution_count": 23,
   "metadata": {},
   "outputs": [
    {
     "name": "stdout",
     "output_type": "stream",
     "text": [
      "{'htanaka': 'Haru Tanaka', 'zmin': 'Zhang Min', 'afarooqi': 'Ayesha Farooqi'}\n",
      "{'htanaka': 'Haru Tanaka', 'afarooqi': 'Ayesha Farooqi'}\n"
     ]
    }
   ],
   "source": [
    "# Define a dictionary named people.\n",
    "people = {\n",
    "    'htanaka': 'Haru Tanaka',\n",
    "    'zmin': 'Zhang Min',\n",
    "    'afarooqi': 'Ayesha Farooqi',\n",
    "    }\n",
    "\n",
    "# Show original people dictionary.\n",
    "print(people)\n",
    "\n",
    "# Remove zmin from the dictionary.\n",
    "del people[\"zmin\"]\n",
    "\n",
    "#Show what's in people now.\n",
    "print(people)"
   ]
  },
  {
   "cell_type": "code",
   "execution_count": 24,
   "metadata": {},
   "outputs": [
    {
     "name": "stdout",
     "output_type": "stream",
     "text": [
      "{'htanaka': 'Haru Tanaka', 'zmin': 'Zhang Min', 'afarooqi': 'Ayesha Farooqi'}\n",
      "{}\n"
     ]
    }
   ],
   "source": [
    "# Define a dictionary named people.\n",
    "people = {\n",
    "    'htanaka': 'Haru Tanaka',\n",
    "    'zmin': 'Zhang Min',\n",
    "    'afarooqi': 'Ayesha Farooqi',\n",
    "    }\n",
    "\n",
    "# Show original people dictionary.\n",
    "print(people)\n",
    "\n",
    "# Remove all data from the dictionary.\n",
    "people.clear()\n",
    "\n",
    "#Show what's in people now.\n",
    "print(people)"
   ]
  },
  {
   "cell_type": "code",
   "execution_count": 25,
   "metadata": {},
   "outputs": [
    {
     "name": "stdout",
     "output_type": "stream",
     "text": [
      "{'htanaka': 'Haru Tanaka', 'zmin': 'Zhang Min', 'afarooqi': 'Ayesha Farooqi'}\n",
      "{'htanaka': 'Haru Tanaka', 'afarooqi': 'Ayesha Farooqi'}\n",
      "Zhang Min\n"
     ]
    }
   ],
   "source": [
    "# Using pop() with Data Dictionaries\n",
    "\n",
    "# Define a dictionary named people.\n",
    "people = {\n",
    "    'htanaka': 'Haru Tanaka',\n",
    "    'zmin': 'Zhang Min',\n",
    "    'afarooqi': 'Ayesha Farooqi',\n",
    "    }\n",
    "\n",
    "# Show original people dictionary.\n",
    "print(people)\n",
    "\n",
    "# Pop zmin from the dictionary and store its value in adios variable\n",
    "\n",
    "'adios = people.pop(\"zmin\")\n",
    "\n",
    "# Print contents of adios and people.\n",
    "print(people)\n",
    "print(adios)\n",
    "\n"
   ]
  },
  {
   "cell_type": "code",
   "execution_count": 2,
   "metadata": {},
   "outputs": [
    {
     "name": "stdout",
     "output_type": "stream",
     "text": [
      "{'htanaka': 'Haru Tanaka', 'zmin': 'Zhang Min', 'afarooqi': 'Ayesha Farooqi'}\n",
      "{'htanaka': 'Haru Tanaka', 'zmin': 'Zhang Min'}\n",
      "('afarooqi', 'Ayesha Farooqi')\n"
     ]
    }
   ],
   "source": [
    "# Using popitem() with Data Dictionaries\n",
    "\n",
    "# Define a dictionary named people.\n",
    "people = {\n",
    "    'htanaka': 'Haru Tanaka',\n",
    "    'zmin': 'Zhang Min',\n",
    "    'afarooqi': 'Ayesha Farooqi',\n",
    "    }\n",
    "\n",
    "# Show original people dictionary.\n",
    "print(people)\n",
    "\n",
    "# Use Popitem() on the dictionary and store its value in adios variable\n",
    "adios = people.popitem()\n",
    "\n",
    "# Print contents of adios and people.\n",
    "print(people)\n",
    "print(adios)\n"
   ]
  },
  {
   "cell_type": "code",
   "execution_count": 3,
   "metadata": {},
   "outputs": [
    {
     "name": "stdout",
     "output_type": "stream",
     "text": [
      "Ray-Ban Wayfarer Sunglasses\n",
      "112.99\n",
      "True\n",
      "10\n",
      "['Black', 'Tortoise']\n"
     ]
    }
   ],
   "source": [
    "# Multi-key dictionaries\n",
    "\n",
    "employee = {\n",
    "    'name' : 'Haru Tanaka',\n",
    "    'year_hired' : 2005,\n",
    "    'dob' : '11/23/1987',\n",
    "    'has_laptop' : False\n",
    "}\n",
    "\n",
    "product = {\n",
    "    'name' : 'Ray-Ban Wayfarer Sunglasses',\n",
    "    'unit_price' : 112.99,\n",
    "    'taxable' : True,\n",
    "    'in_stock' : 10,\n",
    "    'models' : ['Black', 'Tortoise']\n",
    "}\n",
    "\n",
    "# Printing the value of each key\n",
    "print(product['name'])\n",
    "print(product['unit_price'])\n",
    "print(product['taxable'])\n",
    "print(product['in_stock'])\n",
    "print(product['models'])"
   ]
  },
  {
   "cell_type": "code",
   "execution_count": 5,
   "metadata": {},
   "outputs": [
    {
     "name": "stdout",
     "output_type": "stream",
     "text": [
      "Name:     Ray-Ban Wayfarer Suglasses\n",
      "Price:    $112.99\n",
      "Taxable:  True\n",
      "In_stock: 10\n",
      "Models:\n",
      "          Black\n",
      "          Tortoise\n"
     ]
    }
   ],
   "source": [
    "product = {\n",
    "    'name':'Ray-Ban Wayfarer Suglasses',\n",
    "    'unit_price':112.99,\n",
    "    'taxable':True,\n",
    "    'in_stock':10,\n",
    "    'models':['Black','Tortoise']    \n",
    "}\n",
    "\n",
    "print('Name:    ',product['name'])\n",
    "print('Price:   ',f\"${product['unit_price']:.2f}\")\n",
    "print('Taxable: ',product['taxable'])\n",
    "print('In_stock:',product['in_stock'])\n",
    "print('Models:')\n",
    "for model in product['models']:\n",
    "      print(\" \" * 10 + model)"
   ]
  },
  {
   "cell_type": "code",
   "execution_count": 6,
   "metadata": {},
   "outputs": [
    {
     "name": "stdout",
     "output_type": "stream",
     "text": [
      "{'name': None, 'unit_price': None, 'taxable': None, 'in_stock': None, 'models': None}\n",
      "{'name': None, 'unit_price': None, 'taxable': None, 'in_stock': None, 'models': None}\n"
     ]
    }
   ],
   "source": [
    "#Using fromkeys() and setdefault() methods\n",
    "\n",
    "DWC001 = dict.fromkeys(['name', 'unit_price', 'taxable', 'in_stock', 'models'])\n",
    "print(DWC001)\n",
    "\n",
    "# Create a generic dictionary for products name product.\n",
    "product = {\n",
    "'name': '',\n",
    "'unit_price': 0,\n",
    "'taxable': True,\n",
    "'in_stock': 0,\n",
    "'models': []\n",
    "}\n",
    "\n",
    "# Create a dictionary names DWC001 that has the same keys as product.\n",
    "DWC001 = dict.fromkeys(product.keys())\n",
    "\n",
    "#Show what's in the new dictionary.\n",
    "print(DWC001)"
   ]
  },
  {
   "cell_type": "code",
   "execution_count": 3,
   "metadata": {},
   "outputs": [
    {
     "name": "stdout",
     "output_type": "stream",
     "text": [
      "Dicctionary after fromkeys() and setdefault ()\n",
      "{'name': None, 'unit_price': None, 'taxable': None, 'in_stock': None, 'models': None, 'reorder_point': 100}\n",
      "\n",
      "Dictionary after fromkeys() and setdefault\n",
      "{'name': None, 'unit_price': None, 'taxable': True, 'in_stock': None, 'models': None, 'reorder_point': 100}\n"
     ]
    }
   ],
   "source": [
    "#Using fromkeys() and setdefault() methods\n",
    "\n",
    "# Create a generic dictionary for products name product.\n",
    "product = {\n",
    "'name': '',\n",
    "'unit_price': 0,\n",
    "'taxable': True,\n",
    "'in_stock': 0,\n",
    "'models': []\n",
    "}\n",
    "\n",
    "# Create a dictionary for product SKU DWC001\n",
    "DWC001 = dict.fromkeys(product.keys())\n",
    "DWC001.setdefault('taxable',True)\n",
    "DWC001.setdefault('models',[])\n",
    "DWC001.setdefault('reorder_point',100)\n",
    "\n",
    "# Show what's in the new dicrtionary\n",
    "print(\"Dicctionary after fromkeys() and setdefault ()\")\n",
    "print(DWC001)\n",
    "\n",
    "# Change the taxable field from None to True\n",
    "print(\"\\nDictionary after fromkeys() and setdefault\")\n",
    "DWC001['taxable'] = True\n",
    "\n",
    "#Print the dictionary after changing from taxable to true\n",
    "print(DWC001)\n"
   ]
  },
  {
   "cell_type": "code",
   "execution_count": 4,
   "metadata": {},
   "outputs": [
    {
     "name": "stdout",
     "output_type": "stream",
     "text": [
      "ID     Name                 Price Models\n",
      "____________________________________________________________\n",
      "RB00111 Rayban Sunglasses  $112.98 black, tortoise\n",
      "DWC0317 Drone with Camera   $72.95 white, black\n",
      "MTS0540 T-Shirt              $2.95 small, medium, large\n",
      "ECD2989 Echo dot            $29.99 <none>\n"
     ]
    }
   ],
   "source": [
    "# Nesting dictionaries\n",
    "products = {\n",
    "    'RB00111':{'name':'Rayban Sunglasses','price':112.98,'models':['black','tortoise']},\n",
    "    'DWC0317':{'name':'Drone with Camera','price':72.95,'models':['white','black']},\n",
    "    'MTS0540':{'name':'T-Shirt','price':2.95,'models':['small','medium','large']},\n",
    "    'ECD2989':{'name':'Echo dot','price':29.99,'models':[]}, \n",
    "    }\n",
    "\n",
    "print(f\"{'ID':<6} {'Name':<17} {'Price':>8} {'Models'}\")\n",
    "print('_' * 60) \n",
    "\n",
    "# Loop through each dictionary in the products dictionary\n",
    "for oneproduct in products.keys():\n",
    "      # Get the id of oneproduct.\n",
    "      id = oneproduct\n",
    "      # Get the name of the product\n",
    "      name = products[oneproduct]['name']\n",
    "      # Get the unit price of one product.\n",
    "      unit_price = '$' + f\"{products[oneproduct]['price']:,.2f}\"\n",
    "      # Create an empty variable named models\n",
    "      models = ''\n",
    "      # Loop through the model list and tack into the model\n",
    "      # One item from the list followed by a comma and space.\n",
    "      for m in products[oneproduct]['models']:\n",
    "          models += m + ', '\n",
    "      # If the model variable is more than two characters in length,\n",
    "      # Peel off the last two characters (last comma and space)\n",
    "      if len(models) > 2:\n",
    "          models = models[:-2]\n",
    "      else:\n",
    "          models = \"<none>\"\n",
    "      # Print all the variables  with a neat f-string.\n",
    "      print(f\"{id:<6} {name:<17} {unit_price:>8} {models}\")\n",
    "      \n",
    "      \n",
    "\n"
   ]
  }
 ],
 "metadata": {
  "kernelspec": {
   "display_name": "Python 3",
   "language": "python",
   "name": "python3"
  },
  "language_info": {
   "codemirror_mode": {
    "name": "ipython",
    "version": 3
   },
   "file_extension": ".py",
   "mimetype": "text/x-python",
   "name": "python",
   "nbconvert_exporter": "python",
   "pygments_lexer": "ipython3",
   "version": "3.7.1"
  }
 },
 "nbformat": 4,
 "nbformat_minor": 2
}
