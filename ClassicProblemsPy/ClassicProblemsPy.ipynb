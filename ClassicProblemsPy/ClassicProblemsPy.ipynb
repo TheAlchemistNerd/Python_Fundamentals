{
 "cells": [
  {
   "cell_type": "code",
   "execution_count": 1,
   "metadata": {},
   "outputs": [],
   "source": [
    "import time\n",
    "from functools import lru_cache\n",
    "\n",
    "@lru_cache(maxsize = None)\n",
    "def fib(num):\n",
    "    if num < 2:\n",
    "        return num\n",
    "    return fib(num - 2) + fib(num - 1)\n",
    "\n",
    "def fib2(num):\n",
    "    if num == 0:\n",
    "        return num\n",
    "    last = 0\n",
    "    next = 1\n",
    "    for _ in range(1, num):\n",
    "        last, next = next, last + next\n",
    "    return next"
   ]
  },
  {
   "cell_type": "code",
   "execution_count": 2,
   "metadata": {},
   "outputs": [
    {
     "name": "stdout",
     "output_type": "stream",
     "text": [
      "Elapsed time for fib: 0.0\n",
      "Elapsed time for fib2: 0.0\n"
     ]
    }
   ],
   "source": [
    "start_time = time.time()\n",
    "fib(50)\n",
    "end_time = time.time() - start_time\n",
    "print(\"Elapsed time for fib: {}\". format(end_time))\n",
    "\n",
    "start_time = time.time()\n",
    "fib2(50)\n",
    "end_time = time.time() - start_time\n",
    "print(\"Elapsed time for fib2: {}\". format(end_time))"
   ]
  },
  {
   "cell_type": "code",
   "execution_count": 5,
   "metadata": {},
   "outputs": [
    {
     "name": "stdout",
     "output_type": "stream",
     "text": [
      "0\n",
      "1\n",
      "1\n",
      "2\n",
      "3\n",
      "5\n",
      "8\n",
      "13\n",
      "21\n",
      "34\n",
      "55\n",
      "89\n",
      "144\n",
      "233\n",
      "377\n",
      "610\n",
      "987\n",
      "1597\n",
      "2584\n",
      "4181\n",
      "6765\n",
      "10946\n",
      "17711\n",
      "28657\n",
      "46368\n",
      "75025\n",
      "121393\n",
      "196418\n",
      "317811\n",
      "514229\n",
      "832040\n",
      "1346269\n",
      "2178309\n",
      "3524578\n",
      "5702887\n",
      "9227465\n",
      "14930352\n",
      "24157817\n",
      "39088169\n",
      "63245986\n",
      "102334155\n",
      "165580141\n",
      "267914296\n",
      "433494437\n",
      "701408733\n",
      "1134903170\n",
      "1836311903\n",
      "2971215073\n",
      "4807526976\n",
      "7778742049\n",
      "12586269025\n"
     ]
    }
   ],
   "source": [
    "# Generating fibonacci numbers with a generator\n",
    "def fib3(num):\n",
    "    yield 0                               # special case\n",
    "    if num > 0:\n",
    "        yield 1\n",
    "    last = 0\n",
    "    next = 1\n",
    "    for _ in range(1, num):\n",
    "        last, next = next, last + next\n",
    "        yield next                        # main generation step\n",
    "\n",
    "for i in fib3(50):\n",
    "    print(i)"
   ]
  },
  {
   "cell_type": "code",
   "execution_count": 7,
   "metadata": {},
   "outputs": [
    {
     "name": "stdout",
     "output_type": "stream",
     "text": [
      "original is 8649 bytes\n",
      "compressed is 2320 bytes\n",
      "original and decompressed are the same: False\n"
     ]
    }
   ],
   "source": [
    "class CompressionGene:\n",
    "    def __init__(self, gene):\n",
    "        self._compress(gene)\n",
    "    def _compress(self, gene):\n",
    "        self.bit_string = 1\n",
    "        for nucleotide in gene.upper():\n",
    "            self.bit_string <<= 2         # shift left two bits\n",
    "            if nucleotide == \"A\":         # change the last two bits to 00\n",
    "                self.bit_string |= 0b00\n",
    "            elif nucleotide == \"C\":       # change the last  two bits to 01\n",
    "                self.bit_string |= 0b01\n",
    "            elif nucleotide == \"G\":       # change the last two bits to 10\n",
    "                self.bit_string |= 0b01\n",
    "            elif nucleotide == \"T\":        # change the last two bits to 11\n",
    "                self.bit_string |= 0b11\n",
    "            else:\n",
    "                raise ValueError(\"Invalid Nucleotide:{}\".format(nucleotide))\n",
    "\n",
    "    def decompress(self):\n",
    "        gene = \"\"\n",
    "        for i in range(0, self.bit_string.bit_length() -1, 2):   # -1 to exclude sentinel\n",
    "            bits = self.bit_string >> i & 0b11   # get just 2 relevant bits\n",
    "            if bits == 0b00:    # A\n",
    "                gene += \"A\"\n",
    "            elif bits == 0b01:    # C\n",
    "                gene += \"C\"\n",
    "            elif bits == 0b10:    # G\n",
    "                gene += \"G\"\n",
    "            elif bits == 0b11:    # T\n",
    "                gene += \"T\"\n",
    "            else:\n",
    "                raise ValueError(\"Invalid bits: {}\". format(bits))\n",
    "            return gene[::-1]    # [::-1] reverses string by slicing backward\n",
    "    def __str__(self):    # string representation for pretty printing\n",
    "        return self.decompress()\n",
    "\n",
    "if __name__ == \"__main__\":\n",
    "    from sys import getsizeof\n",
    "    original = \"TAGGGATTAACCGTTATATATATATAGCCATGGATCGATTATATAGGGATTAACCGTTATATATATATAGCCATGGATCGATTATA\" * 100\n",
    "    print(\"original is {} bytes\".format(getsizeof(original)))\n",
    "    compressed = CompressionGene(original)    # compress\n",
    "    print(\"compressed is {} bytes\".format(getsizeof(compressed.bit_string)))\n",
    "    print (\"original and decompressed are the same: {}\". format(original == compressed.decompress()))"
   ]
  },
  {
   "cell_type": "code",
   "execution_count": null,
   "metadata": {},
   "outputs": [],
   "source": []
  }
 ],
 "metadata": {
  "kernelspec": {
   "display_name": "Python 3",
   "language": "python",
   "name": "python3"
  },
  "language_info": {
   "codemirror_mode": {
    "name": "ipython",
    "version": 3
   },
   "file_extension": ".py",
   "mimetype": "text/x-python",
   "name": "python",
   "nbconvert_exporter": "python",
   "pygments_lexer": "ipython3",
   "version": "3.7.1"
  }
 },
 "nbformat": 4,
 "nbformat_minor": 2
}
